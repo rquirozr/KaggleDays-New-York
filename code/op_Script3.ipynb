{
 "cells": [
  {
   "cell_type": "code",
   "execution_count": 20,
   "metadata": {},
   "outputs": [],
   "source": [
    "# librerias:\n",
    "import pandas as pd\n",
    "pd.set_option('display.max_columns', None)\n",
    "pd.set_option('display.max_rows', 200)\n",
    "import numpy as np\n",
    "from tqdm.notebook import tqdm\n",
    "import gc\n",
    "\n",
    "import warnings\n",
    "warnings.filterwarnings(\"ignore\")\n",
    "\n",
    "from lightgbm import LGBMClassifier,LGBMRegressor\n",
    "from xgboost import XGBClassifier,XGBRegressor\n",
    "from catboost import CatBoostClassifier,CatBoostRegressor\n",
    "\n",
    "import os\n",
    "import sweetviz as sv\n",
    "\n",
    "from sklearn.model_selection import GroupKFold, StratifiedKFold, KFold, train_test_split\n",
    "from sklearn.metrics import mean_absolute_error,mean_squared_log_error,mean_squared_error,f1_score\n",
    "from sklearn import preprocessing\n",
    "\n",
    "import matplotlib.pyplot as plt\n",
    "import seaborn as sns\n",
    "\n",
    "import datetime"
   ]
  },
  {
   "cell_type": "code",
   "execution_count": 3,
   "metadata": {},
   "outputs": [],
   "source": [
    "os.chdir(\"D:/Script/KaggleDaysQualifiers/Qualifier8/\")"
   ]
  },
  {
   "cell_type": "code",
   "execution_count": 4,
   "metadata": {},
   "outputs": [
    {
     "data": {
      "text/html": [
       "<div>\n",
       "<style scoped>\n",
       "    .dataframe tbody tr th:only-of-type {\n",
       "        vertical-align: middle;\n",
       "    }\n",
       "\n",
       "    .dataframe tbody tr th {\n",
       "        vertical-align: top;\n",
       "    }\n",
       "\n",
       "    .dataframe thead th {\n",
       "        text-align: right;\n",
       "    }\n",
       "</style>\n",
       "<table border=\"1\" class=\"dataframe\">\n",
       "  <thead>\n",
       "    <tr style=\"text-align: right;\">\n",
       "      <th></th>\n",
       "      <th>id</th>\n",
       "      <th>user_id</th>\n",
       "      <th>book_id</th>\n",
       "      <th>rating</th>\n",
       "    </tr>\n",
       "  </thead>\n",
       "  <tbody>\n",
       "    <tr>\n",
       "      <th>0</th>\n",
       "      <td>5c52cc76216e68f8</td>\n",
       "      <td>9db527ea34</td>\n",
       "      <td>69173ee3b6</td>\n",
       "      <td>5</td>\n",
       "    </tr>\n",
       "    <tr>\n",
       "      <th>1</th>\n",
       "      <td>9ecc1d4a2e9a7476</td>\n",
       "      <td>3db2595a13</td>\n",
       "      <td>58d33fe06a</td>\n",
       "      <td>8</td>\n",
       "    </tr>\n",
       "    <tr>\n",
       "      <th>2</th>\n",
       "      <td>953317c1edbe1e56</td>\n",
       "      <td>375781e597</td>\n",
       "      <td>512b5d69de</td>\n",
       "      <td>10</td>\n",
       "    </tr>\n",
       "    <tr>\n",
       "      <th>3</th>\n",
       "      <td>617ef107e6ffed5a</td>\n",
       "      <td>f00ee6360d</td>\n",
       "      <td>98c1419160</td>\n",
       "      <td>9</td>\n",
       "    </tr>\n",
       "    <tr>\n",
       "      <th>4</th>\n",
       "      <td>0e2be280941c4d1f</td>\n",
       "      <td>8b893fb104</td>\n",
       "      <td>99c56ce036</td>\n",
       "      <td>9</td>\n",
       "    </tr>\n",
       "  </tbody>\n",
       "</table>\n",
       "</div>"
      ],
      "text/plain": [
       "                 id     user_id     book_id  rating\n",
       "0  5c52cc76216e68f8  9db527ea34  69173ee3b6       5\n",
       "1  9ecc1d4a2e9a7476  3db2595a13  58d33fe06a       8\n",
       "2  953317c1edbe1e56  375781e597  512b5d69de      10\n",
       "3  617ef107e6ffed5a  f00ee6360d  98c1419160       9\n",
       "4  0e2be280941c4d1f  8b893fb104  99c56ce036       9"
      ]
     },
     "execution_count": 4,
     "metadata": {},
     "output_type": "execute_result"
    }
   ],
   "source": [
    "train_ratings = pd.read_csv(\"Data/train_ratings.csv\")\n",
    "train_ratings.head()"
   ]
  },
  {
   "cell_type": "code",
   "execution_count": 5,
   "metadata": {},
   "outputs": [
    {
     "data": {
      "text/html": [
       "<div>\n",
       "<style scoped>\n",
       "    .dataframe tbody tr th:only-of-type {\n",
       "        vertical-align: middle;\n",
       "    }\n",
       "\n",
       "    .dataframe tbody tr th {\n",
       "        vertical-align: top;\n",
       "    }\n",
       "\n",
       "    .dataframe thead th {\n",
       "        text-align: right;\n",
       "    }\n",
       "</style>\n",
       "<table border=\"1\" class=\"dataframe\">\n",
       "  <thead>\n",
       "    <tr style=\"text-align: right;\">\n",
       "      <th></th>\n",
       "      <th>id</th>\n",
       "      <th>user_id</th>\n",
       "      <th>book_id</th>\n",
       "    </tr>\n",
       "  </thead>\n",
       "  <tbody>\n",
       "    <tr>\n",
       "      <th>0</th>\n",
       "      <td>f38f854b31509133</td>\n",
       "      <td>8073cd1ef5</td>\n",
       "      <td>5d228c95dc</td>\n",
       "    </tr>\n",
       "    <tr>\n",
       "      <th>1</th>\n",
       "      <td>aadb34054d6c8a12</td>\n",
       "      <td>41d6240ef5</td>\n",
       "      <td>6bbcd07e36</td>\n",
       "    </tr>\n",
       "    <tr>\n",
       "      <th>2</th>\n",
       "      <td>87b031bdd906e26d</td>\n",
       "      <td>fcb9105c5c</td>\n",
       "      <td>4a88d029fa</td>\n",
       "    </tr>\n",
       "    <tr>\n",
       "      <th>3</th>\n",
       "      <td>371562c1c36bb8d5</td>\n",
       "      <td>942e3a5ae8</td>\n",
       "      <td>4127c00651</td>\n",
       "    </tr>\n",
       "    <tr>\n",
       "      <th>4</th>\n",
       "      <td>3ebb7df64a2896be</td>\n",
       "      <td>da3c9dfa9c</td>\n",
       "      <td>34de200846</td>\n",
       "    </tr>\n",
       "  </tbody>\n",
       "</table>\n",
       "</div>"
      ],
      "text/plain": [
       "                 id     user_id     book_id\n",
       "0  f38f854b31509133  8073cd1ef5  5d228c95dc\n",
       "1  aadb34054d6c8a12  41d6240ef5  6bbcd07e36\n",
       "2  87b031bdd906e26d  fcb9105c5c  4a88d029fa\n",
       "3  371562c1c36bb8d5  942e3a5ae8  4127c00651\n",
       "4  3ebb7df64a2896be  da3c9dfa9c  34de200846"
      ]
     },
     "execution_count": 5,
     "metadata": {},
     "output_type": "execute_result"
    }
   ],
   "source": [
    "test_ratings = pd.read_csv(\"Data/test_ratings.csv\")\n",
    "test_ratings.head()"
   ]
  },
  {
   "cell_type": "code",
   "execution_count": 6,
   "metadata": {},
   "outputs": [
    {
     "data": {
      "text/html": [
       "<div>\n",
       "<style scoped>\n",
       "    .dataframe tbody tr th:only-of-type {\n",
       "        vertical-align: middle;\n",
       "    }\n",
       "\n",
       "    .dataframe tbody tr th {\n",
       "        vertical-align: top;\n",
       "    }\n",
       "\n",
       "    .dataframe thead th {\n",
       "        text-align: right;\n",
       "    }\n",
       "</style>\n",
       "<table border=\"1\" class=\"dataframe\">\n",
       "  <thead>\n",
       "    <tr style=\"text-align: right;\">\n",
       "      <th></th>\n",
       "      <th>book_id</th>\n",
       "      <th>title</th>\n",
       "      <th>author</th>\n",
       "      <th>year</th>\n",
       "      <th>publisher</th>\n",
       "    </tr>\n",
       "  </thead>\n",
       "  <tbody>\n",
       "    <tr>\n",
       "      <th>0</th>\n",
       "      <td>8a2f2c390c</td>\n",
       "      <td>Classical Mythology</td>\n",
       "      <td>Mark P. O. Morford</td>\n",
       "      <td>2002</td>\n",
       "      <td>Oxford University Press</td>\n",
       "    </tr>\n",
       "    <tr>\n",
       "      <th>1</th>\n",
       "      <td>dce235e3f8</td>\n",
       "      <td>Clara Callan</td>\n",
       "      <td>Richard Bruce Wright</td>\n",
       "      <td>2001</td>\n",
       "      <td>HarperFlamingo Canada</td>\n",
       "    </tr>\n",
       "    <tr>\n",
       "      <th>2</th>\n",
       "      <td>624ad92bef</td>\n",
       "      <td>Decision in Normandy</td>\n",
       "      <td>Carlo D'Este</td>\n",
       "      <td>1991</td>\n",
       "      <td>HarperPerennial</td>\n",
       "    </tr>\n",
       "    <tr>\n",
       "      <th>3</th>\n",
       "      <td>9418f71f8f</td>\n",
       "      <td>Flu: The Story of the Great Influenza Pandemic...</td>\n",
       "      <td>Gina Bari Kolata</td>\n",
       "      <td>1999</td>\n",
       "      <td>Farrar Straus Giroux</td>\n",
       "    </tr>\n",
       "    <tr>\n",
       "      <th>4</th>\n",
       "      <td>a9908c598a</td>\n",
       "      <td>The Mummies of Urumchi</td>\n",
       "      <td>E. J. W. Barber</td>\n",
       "      <td>1999</td>\n",
       "      <td>W. W. Norton &amp;amp; Company</td>\n",
       "    </tr>\n",
       "  </tbody>\n",
       "</table>\n",
       "</div>"
      ],
      "text/plain": [
       "      book_id                                              title  \\\n",
       "0  8a2f2c390c                                Classical Mythology   \n",
       "1  dce235e3f8                                       Clara Callan   \n",
       "2  624ad92bef                               Decision in Normandy   \n",
       "3  9418f71f8f  Flu: The Story of the Great Influenza Pandemic...   \n",
       "4  a9908c598a                             The Mummies of Urumchi   \n",
       "\n",
       "                 author  year                   publisher  \n",
       "0    Mark P. O. Morford  2002     Oxford University Press  \n",
       "1  Richard Bruce Wright  2001       HarperFlamingo Canada  \n",
       "2          Carlo D'Este  1991             HarperPerennial  \n",
       "3      Gina Bari Kolata  1999        Farrar Straus Giroux  \n",
       "4       E. J. W. Barber  1999  W. W. Norton &amp; Company  "
      ]
     },
     "execution_count": 6,
     "metadata": {},
     "output_type": "execute_result"
    }
   ],
   "source": [
    "books = pd.read_csv(\"Data/books.csv\")\n",
    "books.head()"
   ]
  },
  {
   "cell_type": "code",
   "execution_count": 7,
   "metadata": {},
   "outputs": [
    {
     "data": {
      "text/html": [
       "<div>\n",
       "<style scoped>\n",
       "    .dataframe tbody tr th:only-of-type {\n",
       "        vertical-align: middle;\n",
       "    }\n",
       "\n",
       "    .dataframe tbody tr th {\n",
       "        vertical-align: top;\n",
       "    }\n",
       "\n",
       "    .dataframe thead th {\n",
       "        text-align: right;\n",
       "    }\n",
       "</style>\n",
       "<table border=\"1\" class=\"dataframe\">\n",
       "  <thead>\n",
       "    <tr style=\"text-align: right;\">\n",
       "      <th></th>\n",
       "      <th>user_id</th>\n",
       "      <th>age</th>\n",
       "      <th>city</th>\n",
       "      <th>province</th>\n",
       "      <th>country</th>\n",
       "    </tr>\n",
       "  </thead>\n",
       "  <tbody>\n",
       "    <tr>\n",
       "      <th>0</th>\n",
       "      <td>c4ca4238a0</td>\n",
       "      <td>NaN</td>\n",
       "      <td>nyc</td>\n",
       "      <td>new york</td>\n",
       "      <td>usa</td>\n",
       "    </tr>\n",
       "    <tr>\n",
       "      <th>1</th>\n",
       "      <td>c81e728d9d</td>\n",
       "      <td>18.0</td>\n",
       "      <td>stockton</td>\n",
       "      <td>california</td>\n",
       "      <td>usa</td>\n",
       "    </tr>\n",
       "    <tr>\n",
       "      <th>2</th>\n",
       "      <td>eccbc87e4b</td>\n",
       "      <td>NaN</td>\n",
       "      <td>moscow</td>\n",
       "      <td>yukon territory</td>\n",
       "      <td>russia</td>\n",
       "    </tr>\n",
       "    <tr>\n",
       "      <th>3</th>\n",
       "      <td>a87ff679a2</td>\n",
       "      <td>17.0</td>\n",
       "      <td>porto</td>\n",
       "      <td>v.n.gaia</td>\n",
       "      <td>portugal</td>\n",
       "    </tr>\n",
       "    <tr>\n",
       "      <th>4</th>\n",
       "      <td>e4da3b7fbb</td>\n",
       "      <td>NaN</td>\n",
       "      <td>farnborough</td>\n",
       "      <td>hants</td>\n",
       "      <td>united kingdom</td>\n",
       "    </tr>\n",
       "  </tbody>\n",
       "</table>\n",
       "</div>"
      ],
      "text/plain": [
       "      user_id   age         city          province          country\n",
       "0  c4ca4238a0   NaN          nyc          new york              usa\n",
       "1  c81e728d9d  18.0     stockton        california              usa\n",
       "2  eccbc87e4b   NaN       moscow   yukon territory           russia\n",
       "3  a87ff679a2  17.0        porto          v.n.gaia         portugal\n",
       "4  e4da3b7fbb   NaN  farnborough             hants   united kingdom"
      ]
     },
     "execution_count": 7,
     "metadata": {},
     "output_type": "execute_result"
    }
   ],
   "source": [
    "users = pd.read_csv(\"Data/users.csv\")\n",
    "users.head()"
   ]
  },
  {
   "cell_type": "markdown",
   "metadata": {},
   "source": [
    "### Realizando los joins:"
   ]
  },
  {
   "cell_type": "code",
   "execution_count": 8,
   "metadata": {},
   "outputs": [],
   "source": [
    "train_ratings = pd.merge(train_ratings,users,on=\"user_id\",how=\"left\")\n",
    "test_ratings = pd.merge(test_ratings,users,on=\"user_id\",how=\"left\")"
   ]
  },
  {
   "cell_type": "code",
   "execution_count": 9,
   "metadata": {},
   "outputs": [],
   "source": [
    "def preprocess_book(df):\n",
    "    vals_year   = df[df['year'].isin(['DK Publishing Inc','Gallimard'])]['author'].values \n",
    "    vals_author = df[df['year'].isin(['DK Publishing Inc','Gallimard'])]['year'].values \n",
    "    df.loc[df['year'].isin(['DK Publishing Inc','Gallimard']),'year'] = vals_year\n",
    "    df.loc[df['year'].isin(['DK Publishing Inc','Gallimard']),'author'] = vals_author\n",
    "    df['year'] = df['year'].astype('float')\n",
    "    return df"
   ]
  },
  {
   "cell_type": "code",
   "execution_count": 10,
   "metadata": {},
   "outputs": [],
   "source": [
    "books = preprocess_book(books)"
   ]
  },
  {
   "cell_type": "code",
   "execution_count": 11,
   "metadata": {},
   "outputs": [],
   "source": [
    "train_ratings = pd.merge(train_ratings,books,on=\"book_id\",how=\"left\")\n",
    "test_ratings = pd.merge(test_ratings,books,on=\"book_id\",how=\"left\")"
   ]
  },
  {
   "cell_type": "markdown",
   "metadata": {},
   "source": [
    "### PreProcessing:"
   ]
  },
  {
   "cell_type": "code",
   "execution_count": 12,
   "metadata": {},
   "outputs": [],
   "source": [
    "def label_encoder(train,test,vars_cat):\n",
    "    lbl_dict = {}\n",
    "    for f in train[vars_cat].columns:\n",
    "        if train[f].dtype=='object' or test[f].dtype=='object': \n",
    "            lbl = preprocessing.LabelEncoder()\n",
    "            lbl.fit(list(train[f].values) + list(test[f].values))\n",
    "            lbl_dict[f] = lbl\n",
    "            train[f] = lbl.transform(list(train[f].values))\n",
    "            test[f] = lbl.transform(list(test[f].values))\n",
    "    return train, test"
   ]
  },
  {
   "cell_type": "code",
   "execution_count": 13,
   "metadata": {},
   "outputs": [],
   "source": [
    "vars_cat = [\"city\",\"province\",\"country\",\"title\",\"author\",\"publisher\"]"
   ]
  },
  {
   "cell_type": "code",
   "execution_count": 14,
   "metadata": {},
   "outputs": [],
   "source": [
    "train_ratings, test_ratings = label_encoder(train_ratings,test_ratings,vars_cat)"
   ]
  },
  {
   "cell_type": "markdown",
   "metadata": {},
   "source": [
    "### Feature Engineering:"
   ]
  },
  {
   "cell_type": "code",
   "execution_count": null,
   "metadata": {},
   "outputs": [],
   "source": []
  },
  {
   "cell_type": "code",
   "execution_count": null,
   "metadata": {},
   "outputs": [],
   "source": []
  },
  {
   "cell_type": "markdown",
   "metadata": {},
   "source": [
    "### LightGBM:"
   ]
  },
  {
   "cell_type": "code",
   "execution_count": 17,
   "metadata": {},
   "outputs": [],
   "source": [
    "data = train_ratings\n",
    "test = test_ratings"
   ]
  },
  {
   "cell_type": "code",
   "execution_count": 18,
   "metadata": {},
   "outputs": [],
   "source": [
    "# Variables finales que entrarian al modelo:\n",
    "vars_in = [f for f in data.columns if f not in ['id','user_id','book_id','rating']]"
   ]
  },
  {
   "cell_type": "code",
   "execution_count": 23,
   "metadata": {},
   "outputs": [],
   "source": [
    "# Particionando la muestra en train(70%) y test (30%)\n",
    "train_x, valid_x, train_y, valid_y = train_test_split(data[vars_in],\n",
    "                                                      data[\"rating\"],\n",
    "                                                      test_size=0.25,\n",
    "                                                      shuffle=True,\n",
    "                                                      random_state=456,\n",
    "                                                      stratify=data[\"rating\"])"
   ]
  },
  {
   "cell_type": "code",
   "execution_count": 24,
   "metadata": {},
   "outputs": [
    {
     "name": "stdout",
     "output_type": "stream",
     "text": [
      "[25]\ttraining's multi_error: 0.696166\ttraining's multi_logloss: 1.79866\tvalid_1's multi_error: 0.704412\tvalid_1's multi_logloss: 1.82486\n",
      "[50]\ttraining's multi_error: 0.681898\ttraining's multi_logloss: 1.75814\tvalid_1's multi_error: 0.698959\tvalid_1's multi_logloss: 1.80449\n",
      "[75]\ttraining's multi_error: 0.670416\ttraining's multi_logloss: 1.72916\tvalid_1's multi_error: 0.696313\tvalid_1's multi_logloss: 1.7935\n",
      "[100]\ttraining's multi_error: 0.660377\ttraining's multi_logloss: 1.70742\tvalid_1's multi_error: 0.693427\tvalid_1's multi_logloss: 1.78773\n",
      "[125]\ttraining's multi_error: 0.652941\ttraining's multi_logloss: 1.68923\tvalid_1's multi_error: 0.692079\tvalid_1's multi_logloss: 1.784\n",
      "[150]\ttraining's multi_error: 0.646494\ttraining's multi_logloss: 1.6737\tvalid_1's multi_error: 0.692079\tvalid_1's multi_logloss: 1.78173\n",
      "[175]\ttraining's multi_error: 0.640512\ttraining's multi_logloss: 1.65954\tvalid_1's multi_error: 0.691326\tvalid_1's multi_logloss: 1.77977\n",
      "[200]\ttraining's multi_error: 0.63491\ttraining's multi_logloss: 1.64674\tvalid_1's multi_error: 0.69046\tvalid_1's multi_logloss: 1.77829\n",
      "[225]\ttraining's multi_error: 0.629805\ttraining's multi_logloss: 1.63521\tvalid_1's multi_error: 0.690428\tvalid_1's multi_logloss: 1.77747\n",
      "[250]\ttraining's multi_error: 0.625256\ttraining's multi_logloss: 1.62422\tvalid_1's multi_error: 0.691021\tvalid_1's multi_logloss: 1.77677\n",
      "[275]\ttraining's multi_error: 0.621097\ttraining's multi_logloss: 1.61406\tvalid_1's multi_error: 0.691518\tvalid_1's multi_logloss: 1.77634\n",
      "[300]\ttraining's multi_error: 0.616527\ttraining's multi_logloss: 1.6045\tvalid_1's multi_error: 0.69155\tvalid_1's multi_logloss: 1.77593\n"
     ]
    }
   ],
   "source": [
    "# Parametros del LightGBM\n",
    "param = LGBMClassifier(\n",
    "        n_estimators=10000,\n",
    "        learning_rate=0.03,\n",
    "        boosting_type= 'gbdt',\n",
    "        objective='multiclass',\n",
    "        colsample_bytree=.8,\n",
    "        subsample=.8,\n",
    "        max_depth=5,\n",
    "        num_class=3\n",
    "        #feval = row_wise_f1_score_micro\n",
    "        )\n",
    "\n",
    "# Entrenamiento:\n",
    "lgbm_model = param.fit(train_x, train_y, \n",
    "                eval_set= [(train_x, train_y), (valid_x, valid_y)], \n",
    "                categorical_feature = vars_cat,\n",
    "                eval_metric=['multi_error'],\n",
    "                verbose=25,\n",
    "                early_stopping_rounds=100,\n",
    "                #feval = row_wise_f1_score_micro\n",
    "               )"
   ]
  },
  {
   "cell_type": "code",
   "execution_count": 25,
   "metadata": {},
   "outputs": [],
   "source": [
    "# Haciendo la prediccion:\n",
    "predict_train = lgbm_model.predict(valid_x)"
   ]
  },
  {
   "cell_type": "code",
   "execution_count": 27,
   "metadata": {},
   "outputs": [
    {
     "data": {
      "text/plain": [
       "30.99892554163927"
      ]
     },
     "execution_count": 27,
     "metadata": {},
     "output_type": "execute_result"
    }
   ],
   "source": [
    "f1_score(valid_y,predict_train,average=\"micro\")*100"
   ]
  },
  {
   "cell_type": "code",
   "execution_count": 28,
   "metadata": {},
   "outputs": [],
   "source": [
    "# Haciendo la prediccion:\n",
    "predict_test = lgbm_model.predict(test[vars_in])"
   ]
  },
  {
   "cell_type": "code",
   "execution_count": 29,
   "metadata": {},
   "outputs": [
    {
     "data": {
      "text/html": [
       "<div>\n",
       "<style scoped>\n",
       "    .dataframe tbody tr th:only-of-type {\n",
       "        vertical-align: middle;\n",
       "    }\n",
       "\n",
       "    .dataframe tbody tr th {\n",
       "        vertical-align: top;\n",
       "    }\n",
       "\n",
       "    .dataframe thead th {\n",
       "        text-align: right;\n",
       "    }\n",
       "</style>\n",
       "<table border=\"1\" class=\"dataframe\">\n",
       "  <thead>\n",
       "    <tr style=\"text-align: right;\">\n",
       "      <th></th>\n",
       "      <th>id</th>\n",
       "      <th>rating</th>\n",
       "    </tr>\n",
       "  </thead>\n",
       "  <tbody>\n",
       "    <tr>\n",
       "      <th>0</th>\n",
       "      <td>f38f854b31509133</td>\n",
       "      <td>8</td>\n",
       "    </tr>\n",
       "    <tr>\n",
       "      <th>1</th>\n",
       "      <td>aadb34054d6c8a12</td>\n",
       "      <td>8</td>\n",
       "    </tr>\n",
       "    <tr>\n",
       "      <th>2</th>\n",
       "      <td>87b031bdd906e26d</td>\n",
       "      <td>8</td>\n",
       "    </tr>\n",
       "    <tr>\n",
       "      <th>3</th>\n",
       "      <td>371562c1c36bb8d5</td>\n",
       "      <td>8</td>\n",
       "    </tr>\n",
       "    <tr>\n",
       "      <th>4</th>\n",
       "      <td>3ebb7df64a2896be</td>\n",
       "      <td>8</td>\n",
       "    </tr>\n",
       "  </tbody>\n",
       "</table>\n",
       "</div>"
      ],
      "text/plain": [
       "                 id  rating\n",
       "0  f38f854b31509133       8\n",
       "1  aadb34054d6c8a12       8\n",
       "2  87b031bdd906e26d       8\n",
       "3  371562c1c36bb8d5       8\n",
       "4  3ebb7df64a2896be       8"
      ]
     },
     "execution_count": 29,
     "metadata": {},
     "output_type": "execute_result"
    }
   ],
   "source": [
    "submission_test = pd.DataFrame({'id':test[\"id\"],\n",
    "                                 'rating':predict_test})\n",
    "submission_test.head()"
   ]
  },
  {
   "cell_type": "code",
   "execution_count": 30,
   "metadata": {},
   "outputs": [],
   "source": [
    "submission_test.to_csv(\"Envios/test_30.9989.csv\",index=False)"
   ]
  },
  {
   "cell_type": "code",
   "execution_count": null,
   "metadata": {},
   "outputs": [],
   "source": []
  }
 ],
 "metadata": {
  "kernelspec": {
   "display_name": "Python 3",
   "language": "python",
   "name": "python3"
  },
  "language_info": {
   "codemirror_mode": {
    "name": "ipython",
    "version": 3
   },
   "file_extension": ".py",
   "mimetype": "text/x-python",
   "name": "python",
   "nbconvert_exporter": "python",
   "pygments_lexer": "ipython3",
   "version": "3.8.8"
  }
 },
 "nbformat": 4,
 "nbformat_minor": 4
}
