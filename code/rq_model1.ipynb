{
 "cells": [
  {
   "cell_type": "code",
   "execution_count": 2,
   "id": "473c16c7-af5c-40c9-98f8-14ca95d5cc5d",
   "metadata": {
    "execution": {
     "iopub.execute_input": "2022-05-13T00:39:52.127019Z",
     "iopub.status.busy": "2022-05-13T00:39:52.126566Z",
     "iopub.status.idle": "2022-05-13T00:40:04.558815Z",
     "shell.execute_reply": "2022-05-13T00:40:04.556613Z",
     "shell.execute_reply.started": "2022-05-13T00:39:52.126953Z"
    },
    "tags": []
   },
   "outputs": [],
   "source": [
    "# librerias:\n",
    "import pandas as pd\n",
    "pd.set_option('display.max_columns', None)\n",
    "pd.set_option('display.max_rows', 200)\n",
    "import numpy as np\n",
    "from tqdm.notebook import tqdm\n",
    "import gc\n",
    "\n",
    "import warnings\n",
    "warnings.filterwarnings(\"ignore\")\n",
    "\n",
    "from lightgbm import LGBMClassifier,LGBMRegressor, LGBMRanker\n",
    "from xgboost import XGBClassifier,XGBRegressor\n",
    "from catboost import CatBoostClassifier,CatBoostRegressor\n",
    "\n",
    "import os\n",
    "import sweetviz as sv\n",
    "\n",
    "from sklearn.model_selection import GroupKFold, StratifiedKFold, KFold, train_test_split\n",
    "from sklearn.metrics import mean_absolute_error,mean_squared_log_error,mean_squared_error,f1_score\n",
    "from sklearn import preprocessing\n",
    "\n",
    "import matplotlib.pyplot as plt\n",
    "import seaborn as sns\n",
    "\n",
    "import datetime"
   ]
  },
  {
   "cell_type": "code",
   "execution_count": 3,
   "id": "74f1889f-7197-4f76-a53a-931a9704a5b1",
   "metadata": {
    "execution": {
     "iopub.execute_input": "2022-05-13T00:40:04.563410Z",
     "iopub.status.busy": "2022-05-13T00:40:04.562703Z",
     "iopub.status.idle": "2022-05-13T00:40:04.574279Z",
     "shell.execute_reply": "2022-05-13T00:40:04.573114Z",
     "shell.execute_reply.started": "2022-05-13T00:40:04.563352Z"
    }
   },
   "outputs": [],
   "source": [
    "import lightgbm as lgb"
   ]
  },
  {
   "cell_type": "code",
   "execution_count": 4,
   "id": "adde9541-d3d9-467c-bb9b-48e54535fe73",
   "metadata": {
    "execution": {
     "iopub.execute_input": "2022-05-13T00:40:04.577702Z",
     "iopub.status.busy": "2022-05-13T00:40:04.577335Z",
     "iopub.status.idle": "2022-05-13T00:40:05.560783Z",
     "shell.execute_reply": "2022-05-13T00:40:05.560427Z",
     "shell.execute_reply.started": "2022-05-13T00:40:04.577664Z"
    },
    "tags": []
   },
   "outputs": [],
   "source": [
    "train = pd.read_csv('../data/train_ratings.csv', low_memory=False)\n",
    "test  = pd.read_csv('../data/test_ratings.csv', low_memory=False)\n",
    "users = pd.read_csv('../data/users.csv', low_memory=False)\n",
    "books = pd.read_csv('../data/books.csv', low_memory=False)\n",
    "sample_submission = pd.read_csv('../data/sample_submission.csv', low_memory=False)"
   ]
  },
  {
   "cell_type": "code",
   "execution_count": 5,
   "id": "99952c32-bf19-459e-a122-a0d41ecaf013",
   "metadata": {
    "execution": {
     "iopub.execute_input": "2022-05-13T00:40:05.561903Z",
     "iopub.status.busy": "2022-05-13T00:40:05.561800Z",
     "iopub.status.idle": "2022-05-13T00:40:05.620820Z",
     "shell.execute_reply": "2022-05-13T00:40:05.620378Z",
     "shell.execute_reply.started": "2022-05-13T00:40:05.561891Z"
    },
    "tags": []
   },
   "outputs": [],
   "source": [
    "def preprocess_book(df):\n",
    "    vals_year   = df[df['year'].isin(['DK Publishing Inc','Gallimard'])]['author'].values \n",
    "    vals_author = df[df['year'].isin(['DK Publishing Inc','Gallimard'])]['year'].values \n",
    "    df.loc[df['year'].isin(['DK Publishing Inc','Gallimard']),'year'] = vals_year\n",
    "    df.loc[df['year'].isin(['DK Publishing Inc','Gallimard']),'author'] = vals_author\n",
    "    df['year'] = df['year'].astype(float)\n",
    "#     df.loc[df['year'] == 0, 'year'] = np.nan\n",
    "    return df\n",
    "\n",
    "books = preprocess_book(books)"
   ]
  },
  {
   "cell_type": "code",
   "execution_count": 6,
   "id": "b376d541-b0ff-44d1-b422-7319f2b5ad51",
   "metadata": {
    "execution": {
     "iopub.execute_input": "2022-05-13T00:40:05.621572Z",
     "iopub.status.busy": "2022-05-13T00:40:05.621477Z",
     "iopub.status.idle": "2022-05-13T00:40:06.092249Z",
     "shell.execute_reply": "2022-05-13T00:40:06.091912Z",
     "shell.execute_reply.started": "2022-05-13T00:40:05.621560Z"
    },
    "tags": []
   },
   "outputs": [],
   "source": [
    "train = train.merge(users, how='left').merge(books, how='left')\n",
    "test = test.merge(users, how='left').merge(books, how='left')"
   ]
  },
  {
   "cell_type": "code",
   "execution_count": 7,
   "id": "113a46f3-3c1f-4dc9-9e44-7b2aad6bb62d",
   "metadata": {
    "execution": {
     "iopub.execute_input": "2022-05-13T00:40:06.093080Z",
     "iopub.status.busy": "2022-05-13T00:40:06.092977Z",
     "iopub.status.idle": "2022-05-13T00:40:06.520859Z",
     "shell.execute_reply": "2022-05-13T00:40:06.520467Z",
     "shell.execute_reply.started": "2022-05-13T00:40:06.093066Z"
    },
    "tags": []
   },
   "outputs": [],
   "source": [
    "vars_cat = [\"city\",\"province\",\"country\",\"title\",\"author\",\"publisher\"]\n",
    "for col in vars_cat:\n",
    "    train[col] = train[col].astype('category')\n",
    "    test[col] = test[col].astype('category')"
   ]
  },
  {
   "cell_type": "code",
   "execution_count": null,
   "id": "2b56e3cf-43db-4ef2-a366-f46a3f82d326",
   "metadata": {},
   "outputs": [],
   "source": []
  },
  {
   "cell_type": "markdown",
   "id": "632daf72-954e-4bb7-902a-eadba9896b9a",
   "metadata": {},
   "source": [
    "### Modelo"
   ]
  },
  {
   "cell_type": "code",
   "execution_count": 8,
   "id": "912dc73f-4c76-4093-9ccf-aed44f9fc337",
   "metadata": {
    "execution": {
     "iopub.execute_input": "2022-05-13T00:40:06.521653Z",
     "iopub.status.busy": "2022-05-13T00:40:06.521556Z",
     "iopub.status.idle": "2022-05-13T00:40:06.524230Z",
     "shell.execute_reply": "2022-05-13T00:40:06.523863Z",
     "shell.execute_reply.started": "2022-05-13T00:40:06.521641Z"
    },
    "tags": []
   },
   "outputs": [
    {
     "name": "stdout",
     "output_type": "stream",
     "text": [
      "['age', 'city', 'province', 'country', 'title', 'author', 'year', 'publisher']\n"
     ]
    }
   ],
   "source": [
    "# Variables finales que entrarian al modelo:\n",
    "vars_in = [f for f in train.columns if f not in ['id','user_id','book_id','rating']]\n",
    "print(vars_in)"
   ]
  },
  {
   "cell_type": "code",
   "execution_count": 9,
   "id": "6fde608c-91cc-4390-a9b6-886133d33a3b",
   "metadata": {
    "execution": {
     "iopub.execute_input": "2022-05-13T00:40:06.524984Z",
     "iopub.status.busy": "2022-05-13T00:40:06.524893Z",
     "iopub.status.idle": "2022-05-13T00:40:06.532897Z",
     "shell.execute_reply": "2022-05-13T00:40:06.532150Z",
     "shell.execute_reply.started": "2022-05-13T00:40:06.524972Z"
    },
    "tags": []
   },
   "outputs": [
    {
     "data": {
      "text/plain": [
       "1       962\n",
       "2      1543\n",
       "3      3327\n",
       "4      4949\n",
       "5     29475\n",
       "6     20591\n",
       "7     43147\n",
       "8     59657\n",
       "9     39496\n",
       "10    46279\n",
       "Name: rating, dtype: int64"
      ]
     },
     "execution_count": 9,
     "metadata": {},
     "output_type": "execute_result"
    }
   ],
   "source": [
    "train['rating'].value_counts().sort_index()"
   ]
  },
  {
   "cell_type": "code",
   "execution_count": 10,
   "id": "7b530aa8-b17c-4a4f-a330-4e10501b656b",
   "metadata": {
    "execution": {
     "iopub.execute_input": "2022-05-13T00:40:06.540002Z",
     "iopub.status.busy": "2022-05-13T00:40:06.539813Z",
     "iopub.status.idle": "2022-05-13T00:40:06.668440Z",
     "shell.execute_reply": "2022-05-13T00:40:06.668063Z",
     "shell.execute_reply.started": "2022-05-13T00:40:06.539984Z"
    }
   },
   "outputs": [
    {
     "data": {
      "text/plain": [
       "<AxesSubplot:>"
      ]
     },
     "execution_count": 10,
     "metadata": {},
     "output_type": "execute_result"
    },
    {
     "data": {
      "image/png": "[encoded data removed]",
      "text/plain": [
       "<Figure size 432x288 with 1 Axes>"
      ]
     },
     "metadata": {
      "needs_background": "light"
     },
     "output_type": "display_data"
    }
   ],
   "source": [
    "train['rating'].hist()"
   ]
  },
  {
   "cell_type": "code",
   "execution_count": 11,
   "id": "3084901c-f3a7-44f3-9e78-0721fe0c0d0e",
   "metadata": {
    "execution": {
     "iopub.execute_input": "2022-05-13T00:40:06.670135Z",
     "iopub.status.busy": "2022-05-13T00:40:06.669989Z",
     "iopub.status.idle": "2022-05-13T00:40:06.734412Z",
     "shell.execute_reply": "2022-05-13T00:40:06.734010Z",
     "shell.execute_reply.started": "2022-05-13T00:40:06.670117Z"
    },
    "tags": []
   },
   "outputs": [],
   "source": [
    "# Particionando la muestra en train(70%) y test (30%)\n",
    "train_x, valid_x, train_y, valid_y = train_test_split(train[vars_in],\n",
    "                                                      train[\"rating\"],\n",
    "                                                      test_size=0.25,\n",
    "                                                      shuffle=True,\n",
    "                                                      random_state=456,\n",
    "                                                      stratify=train[\"rating\"])\n",
    "# train_y -= 1\n",
    "# valid_y -= 1"
   ]
  },
  {
   "cell_type": "code",
   "execution_count": 213,
   "id": "26078216-8821-429a-85c7-f7fd9e0cbe21",
   "metadata": {
    "execution": {
     "iopub.execute_input": "2022-05-13T00:36:16.845402Z",
     "iopub.status.busy": "2022-05-13T00:36:16.844926Z",
     "iopub.status.idle": "2022-05-13T00:36:16.872213Z",
     "shell.execute_reply": "2022-05-13T00:36:16.871612Z",
     "shell.execute_reply.started": "2022-05-13T00:36:16.845352Z"
    },
    "tags": []
   },
   "outputs": [],
   "source": [
    "# train_y = train_y.map({\n",
    "#     1:  3,\n",
    "#     2:  3,\n",
    "#     3:  3,\n",
    "#     4:  3,\n",
    "#     5:  5,\n",
    "#     6:  5,\n",
    "#     7:  8,\n",
    "#     8:  8,\n",
    "#     9:  10,\n",
    "#     10: 10,\n",
    "# })\n",
    "\n",
    "# valid_y2 = valid_y.map({\n",
    "#     1:  3,\n",
    "#     2:  3,\n",
    "#     3:  3,\n",
    "#     4:  3,\n",
    "#     5:  5,\n",
    "#     6:  5,\n",
    "#     7:  8,\n",
    "#     8:  8,\n",
    "#     9:  10,\n",
    "#     10: 10,\n",
    "# })"
   ]
  },
  {
   "cell_type": "code",
   "execution_count": 54,
   "id": "eef56306-7a5d-403c-817e-3cdf80a8674e",
   "metadata": {
    "execution": {
     "iopub.execute_input": "2022-05-13T00:46:37.219970Z",
     "iopub.status.busy": "2022-05-13T00:46:37.218190Z",
     "iopub.status.idle": "2022-05-13T00:47:12.546446Z",
     "shell.execute_reply": "2022-05-13T00:47:12.545930Z",
     "shell.execute_reply.started": "2022-05-13T00:46:37.219835Z"
    },
    "tags": []
   },
   "outputs": [
    {
     "name": "stdout",
     "output_type": "stream",
     "text": [
      "[LightGBM] [Warning] Accuracy may be bad since you didn't explicitly set num_leaves OR 2^max_depth > num_leaves. (num_leaves=31).\n",
      "Training until validation scores don't improve for 100 rounds\n",
      "[25]\ttraining's multi_error: 0.696032\ttraining's multi_logloss: 1.79898\tvalid_1's multi_error: 0.704315\tvalid_1's multi_logloss: 1.82524\n",
      "[50]\ttraining's multi_error: 0.681465\ttraining's multi_logloss: 1.75741\tvalid_1's multi_error: 0.698398\tvalid_1's multi_logloss: 1.80421\n",
      "[75]\ttraining's multi_error: 0.66955\ttraining's multi_logloss: 1.72923\tvalid_1's multi_error: 0.695335\tvalid_1's multi_logloss: 1.79368\n",
      "[100]\ttraining's multi_error: 0.661045\ttraining's multi_logloss: 1.70765\tvalid_1's multi_error: 0.693892\tvalid_1's multi_logloss: 1.78814\n",
      "[125]\ttraining's multi_error: 0.652818\ttraining's multi_logloss: 1.68977\tvalid_1's multi_error: 0.69248\tvalid_1's multi_logloss: 1.78464\n",
      "[150]\ttraining's multi_error: 0.646457\ttraining's multi_logloss: 1.67432\tvalid_1's multi_error: 0.691903\tvalid_1's multi_logloss: 1.78229\n",
      "[175]\ttraining's multi_error: 0.641074\ttraining's multi_logloss: 1.6607\tvalid_1's multi_error: 0.691037\tvalid_1's multi_logloss: 1.78048\n",
      "[200]\ttraining's multi_error: 0.635311\ttraining's multi_logloss: 1.64841\tvalid_1's multi_error: 0.69123\tvalid_1's multi_logloss: 1.77924\n",
      "[225]\ttraining's multi_error: 0.630072\ttraining's multi_logloss: 1.63695\tvalid_1's multi_error: 0.690989\tvalid_1's multi_logloss: 1.77835\n",
      "[250]\ttraining's multi_error: 0.625534\ttraining's multi_logloss: 1.62614\tvalid_1's multi_error: 0.690845\tvalid_1's multi_logloss: 1.77791\n",
      "[275]\ttraining's multi_error: 0.621295\ttraining's multi_logloss: 1.61584\tvalid_1's multi_error: 0.691374\tvalid_1's multi_logloss: 1.7773\n",
      "[300]\ttraining's multi_error: 0.616949\ttraining's multi_logloss: 1.60642\tvalid_1's multi_error: 0.691262\tvalid_1's multi_logloss: 1.77712\n",
      "[325]\ttraining's multi_error: 0.612614\ttraining's multi_logloss: 1.59717\tvalid_1's multi_error: 0.691598\tvalid_1's multi_logloss: 1.77703\n",
      "[350]\ttraining's multi_error: 0.608866\ttraining's multi_logloss: 1.58888\tvalid_1's multi_error: 0.690845\tvalid_1's multi_logloss: 1.77719\n",
      "Early stopping, best iteration is:\n",
      "[253]\ttraining's multi_error: 0.62485\ttraining's multi_logloss: 1.62474\tvalid_1's multi_error: 0.69062\tvalid_1's multi_logloss: 1.77774\n"
     ]
    },
    {
     "data": {
      "text/plain": [
       "LGBMClassifier(colsample_bytree=0.8, learning_rate=0.03, max_depth=5,\n",
       "               n_estimators=10000, num_class=10, objective='multiclass',\n",
       "               subsample=0.8)"
      ]
     },
     "execution_count": 54,
     "metadata": {},
     "output_type": "execute_result"
    }
   ],
   "source": [
    "# Parametros del LightGBM\n",
    "model1 = LGBMClassifier(\n",
    "        n_estimators=10000,\n",
    "        learning_rate=0.03,\n",
    "        boosting_type= 'gbdt',\n",
    "        objective='multiclass',\n",
    "        colsample_bytree=.8,\n",
    "        subsample=.8,\n",
    "        max_depth=5,\n",
    "        num_class=10\n",
    "        #feval = row_wise_f1_score_micro\n",
    "        )\n",
    "\n",
    "# Entrenamiento:\n",
    "model1.fit(train_x, train_y,\n",
    "            eval_set= [(train_x, train_y), (valid_x, valid_y)], \n",
    "            categorical_feature = vars_cat,\n",
    "            eval_metric=['multi_error'],\n",
    "            verbose=25,\n",
    "            early_stopping_rounds=100,\n",
    "            #feval = row_wise_f1_score_micro\n",
    "           )"
   ]
  },
  {
   "cell_type": "code",
   "execution_count": 14,
   "id": "469d1a99-dabe-4cb3-bb31-a69bbd71cf75",
   "metadata": {
    "execution": {
     "iopub.execute_input": "2022-05-13T00:40:54.295846Z",
     "iopub.status.busy": "2022-05-13T00:40:54.295474Z",
     "iopub.status.idle": "2022-05-13T00:40:57.811701Z",
     "shell.execute_reply": "2022-05-13T00:40:57.811268Z",
     "shell.execute_reply.started": "2022-05-13T00:40:54.295812Z"
    }
   },
   "outputs": [],
   "source": [
    "predict_train1 = model1.predict(valid_x)"
   ]
  },
  {
   "cell_type": "code",
   "execution_count": 53,
   "id": "275a1ed3-d969-4f39-b00c-ea818a3e1fe9",
   "metadata": {
    "execution": {
     "iopub.execute_input": "2022-05-13T00:43:15.620131Z",
     "iopub.status.busy": "2022-05-13T00:43:15.619768Z",
     "iopub.status.idle": "2022-05-13T00:43:15.663866Z",
     "shell.execute_reply": "2022-05-13T00:43:15.662614Z",
     "shell.execute_reply.started": "2022-05-13T00:43:15.620098Z"
    },
    "tags": []
   },
   "outputs": [
    {
     "data": {
      "text/plain": [
       "30.93798611222477"
      ]
     },
     "execution_count": 53,
     "metadata": {},
     "output_type": "execute_result"
    }
   ],
   "source": [
    "predict_train1_f = pd.Series(predict_train1)\n",
    "predict_train1_f = predict_train1_f.map({\n",
    "    1:  1,\n",
    "    2:  2,\n",
    "    3:  3,\n",
    "    4:  4,\n",
    "    5:  5,\n",
    "    6:  6,\n",
    "    7:  7,\n",
    "    8:  8,\n",
    "    9:  9,\n",
    "    10: 10,\n",
    "})\n",
    "\n",
    "\n",
    "f1_score(valid_y,predict_train1_f,average=\"micro\")*100"
   ]
  },
  {
   "cell_type": "code",
   "execution_count": 17,
   "id": "de43c4ea-446e-4b4a-904e-f4889e070dbe",
   "metadata": {
    "execution": {
     "iopub.execute_input": "2022-05-13T00:41:20.155569Z",
     "iopub.status.busy": "2022-05-13T00:41:20.155069Z",
     "iopub.status.idle": "2022-05-13T00:41:20.278360Z",
     "shell.execute_reply": "2022-05-13T00:41:20.277896Z",
     "shell.execute_reply.started": "2022-05-13T00:41:20.155521Z"
    },
    "tags": []
   },
   "outputs": [
    {
     "data": {
      "text/plain": [
       "<AxesSubplot:>"
      ]
     },
     "execution_count": 17,
     "metadata": {},
     "output_type": "execute_result"
    },
    {
     "data": {
      "image/png": "[encoded data removed]",
      "text/plain": [
       "<Figure size 432x288 with 1 Axes>"
      ]
     },
     "metadata": {
      "needs_background": "light"
     },
     "output_type": "display_data"
    }
   ],
   "source": [
    "pd.Series(predict_train1).hist()"
   ]
  },
  {
   "cell_type": "code",
   "execution_count": 194,
   "id": "05c097e1-36eb-4e03-b055-9def30702cb7",
   "metadata": {
    "execution": {
     "iopub.execute_input": "2022-05-13T00:28:04.830581Z",
     "iopub.status.busy": "2022-05-13T00:28:04.830090Z",
     "iopub.status.idle": "2022-05-13T00:28:04.957608Z",
     "shell.execute_reply": "2022-05-13T00:28:04.957163Z",
     "shell.execute_reply.started": "2022-05-13T00:28:04.830531Z"
    },
    "tags": []
   },
   "outputs": [
    {
     "data": {
      "text/plain": [
       "<AxesSubplot:>"
      ]
     },
     "execution_count": 194,
     "metadata": {},
     "output_type": "execute_result"
    },
    {
     "data": {
      "image/png": "[encoded data removed]",
      "text/plain": [
       "<Figure size 432x288 with 1 Axes>"
      ]
     },
     "metadata": {
      "needs_background": "light"
     },
     "output_type": "display_data"
    }
   ],
   "source": [
    "pd.Series(predict_train1).hist()"
   ]
  },
  {
   "cell_type": "code",
   "execution_count": 187,
   "id": "a37641e2-3dee-437f-ae06-61c0e0c56740",
   "metadata": {
    "execution": {
     "iopub.execute_input": "2022-05-13T00:25:19.852122Z",
     "iopub.status.busy": "2022-05-13T00:25:19.851501Z",
     "iopub.status.idle": "2022-05-13T00:26:01.789806Z",
     "shell.execute_reply": "2022-05-13T00:26:01.788859Z",
     "shell.execute_reply.started": "2022-05-13T00:25:19.852056Z"
    },
    "scrolled": true,
    "tags": []
   },
   "outputs": [
    {
     "name": "stdout",
     "output_type": "stream",
     "text": [
      "Training until validation scores don't improve for 100 rounds\n",
      "[25]\ttraining's l2: 3.20214\tvalid_1's l2: 3.21811\n",
      "[50]\ttraining's l2: 3.11384\tvalid_1's l2: 3.14224\n",
      "[75]\ttraining's l2: 3.06049\tvalid_1's l2: 3.10055\n",
      "[100]\ttraining's l2: 3.02274\tvalid_1's l2: 3.0738\n",
      "[125]\ttraining's l2: 2.99472\tvalid_1's l2: 3.0555\n",
      "[150]\ttraining's l2: 2.96651\tvalid_1's l2: 3.03702\n",
      "[175]\ttraining's l2: 2.94211\tvalid_1's l2: 3.02167\n",
      "[200]\ttraining's l2: 2.92189\tvalid_1's l2: 3.00941\n",
      "[225]\ttraining's l2: 2.90445\tvalid_1's l2: 3.00023\n",
      "[250]\ttraining's l2: 2.88678\tvalid_1's l2: 2.99042\n",
      "[275]\ttraining's l2: 2.87204\tvalid_1's l2: 2.98277\n",
      "[300]\ttraining's l2: 2.85725\tvalid_1's l2: 2.97427\n",
      "[325]\ttraining's l2: 2.84256\tvalid_1's l2: 2.96717\n",
      "[350]\ttraining's l2: 2.82994\tvalid_1's l2: 2.96127\n",
      "[375]\ttraining's l2: 2.81796\tvalid_1's l2: 2.9556\n",
      "[400]\ttraining's l2: 2.80588\tvalid_1's l2: 2.94948\n",
      "[425]\ttraining's l2: 2.79441\tvalid_1's l2: 2.94406\n",
      "[450]\ttraining's l2: 2.78375\tvalid_1's l2: 2.939\n",
      "[475]\ttraining's l2: 2.77407\tvalid_1's l2: 2.93466\n",
      "[500]\ttraining's l2: 2.7656\tvalid_1's l2: 2.93104\n",
      "[525]\ttraining's l2: 2.75704\tvalid_1's l2: 2.9277\n",
      "[550]\ttraining's l2: 2.74925\tvalid_1's l2: 2.9246\n",
      "[575]\ttraining's l2: 2.73863\tvalid_1's l2: 2.91956\n",
      "[600]\ttraining's l2: 2.73133\tvalid_1's l2: 2.91672\n",
      "[625]\ttraining's l2: 2.72261\tvalid_1's l2: 2.91286\n",
      "[650]\ttraining's l2: 2.71485\tvalid_1's l2: 2.90999\n",
      "[675]\ttraining's l2: 2.70773\tvalid_1's l2: 2.90769\n",
      "[700]\ttraining's l2: 2.69892\tvalid_1's l2: 2.9039\n",
      "[725]\ttraining's l2: 2.69282\tvalid_1's l2: 2.90186\n",
      "[750]\ttraining's l2: 2.68615\tvalid_1's l2: 2.89995\n",
      "[775]\ttraining's l2: 2.67868\tvalid_1's l2: 2.897\n",
      "[800]\ttraining's l2: 2.67044\tvalid_1's l2: 2.89366\n",
      "[825]\ttraining's l2: 2.66401\tvalid_1's l2: 2.89154\n",
      "[850]\ttraining's l2: 2.65875\tvalid_1's l2: 2.89027\n",
      "[875]\ttraining's l2: 2.65104\tvalid_1's l2: 2.88726\n",
      "[900]\ttraining's l2: 2.64597\tvalid_1's l2: 2.88603\n",
      "[925]\ttraining's l2: 2.64099\tvalid_1's l2: 2.88495\n",
      "[950]\ttraining's l2: 2.63513\tvalid_1's l2: 2.88299\n",
      "[975]\ttraining's l2: 2.62925\tvalid_1's l2: 2.88121\n",
      "[1000]\ttraining's l2: 2.62433\tvalid_1's l2: 2.88015\n",
      "[1025]\ttraining's l2: 2.61956\tvalid_1's l2: 2.87914\n",
      "[1050]\ttraining's l2: 2.61451\tvalid_1's l2: 2.87819\n",
      "[1075]\ttraining's l2: 2.60921\tvalid_1's l2: 2.87648\n",
      "[1100]\ttraining's l2: 2.60474\tvalid_1's l2: 2.87565\n",
      "[1125]\ttraining's l2: 2.5993\tvalid_1's l2: 2.87415\n",
      "[1150]\ttraining's l2: 2.59452\tvalid_1's l2: 2.87322\n",
      "[1175]\ttraining's l2: 2.5903\tvalid_1's l2: 2.87258\n",
      "[1200]\ttraining's l2: 2.58573\tvalid_1's l2: 2.87169\n",
      "[1225]\ttraining's l2: 2.58051\tvalid_1's l2: 2.87012\n",
      "[1250]\ttraining's l2: 2.57568\tvalid_1's l2: 2.86875\n",
      "[1275]\ttraining's l2: 2.5719\tvalid_1's l2: 2.86847\n",
      "[1300]\ttraining's l2: 2.56561\tvalid_1's l2: 2.86697\n",
      "[1325]\ttraining's l2: 2.56158\tvalid_1's l2: 2.86637\n",
      "[1350]\ttraining's l2: 2.55792\tvalid_1's l2: 2.86581\n",
      "[1375]\ttraining's l2: 2.55319\tvalid_1's l2: 2.86451\n",
      "[1400]\ttraining's l2: 2.54874\tvalid_1's l2: 2.86358\n",
      "[1425]\ttraining's l2: 2.54346\tvalid_1's l2: 2.86194\n",
      "[1450]\ttraining's l2: 2.53911\tvalid_1's l2: 2.86106\n",
      "[1475]\ttraining's l2: 2.53532\tvalid_1's l2: 2.86084\n",
      "[1500]\ttraining's l2: 2.53078\tvalid_1's l2: 2.85986\n",
      "[1525]\ttraining's l2: 2.5273\tvalid_1's l2: 2.85949\n",
      "[1550]\ttraining's l2: 2.52365\tvalid_1's l2: 2.85902\n",
      "[1575]\ttraining's l2: 2.51962\tvalid_1's l2: 2.85803\n",
      "[1600]\ttraining's l2: 2.51522\tvalid_1's l2: 2.85691\n",
      "[1625]\ttraining's l2: 2.51153\tvalid_1's l2: 2.85641\n",
      "[1650]\ttraining's l2: 2.50715\tvalid_1's l2: 2.85549\n",
      "[1675]\ttraining's l2: 2.50286\tvalid_1's l2: 2.85459\n",
      "[1700]\ttraining's l2: 2.4984\tvalid_1's l2: 2.85368\n",
      "[1725]\ttraining's l2: 2.49501\tvalid_1's l2: 2.85341\n",
      "[1750]\ttraining's l2: 2.49064\tvalid_1's l2: 2.85199\n",
      "[1775]\ttraining's l2: 2.48709\tvalid_1's l2: 2.85162\n",
      "[1800]\ttraining's l2: 2.48308\tvalid_1's l2: 2.85095\n",
      "[1825]\ttraining's l2: 2.48007\tvalid_1's l2: 2.85074\n",
      "[1850]\ttraining's l2: 2.47702\tvalid_1's l2: 2.85065\n",
      "[1875]\ttraining's l2: 2.47317\tvalid_1's l2: 2.84971\n",
      "[1900]\ttraining's l2: 2.46973\tvalid_1's l2: 2.84925\n",
      "[1925]\ttraining's l2: 2.46582\tvalid_1's l2: 2.84871\n",
      "[1950]\ttraining's l2: 2.46171\tvalid_1's l2: 2.84779\n",
      "[1975]\ttraining's l2: 2.45837\tvalid_1's l2: 2.84722\n",
      "[2000]\ttraining's l2: 2.45498\tvalid_1's l2: 2.84692\n",
      "[2025]\ttraining's l2: 2.45128\tvalid_1's l2: 2.84632\n",
      "[2050]\ttraining's l2: 2.44774\tvalid_1's l2: 2.84583\n",
      "[2075]\ttraining's l2: 2.44469\tvalid_1's l2: 2.84572\n",
      "[2100]\ttraining's l2: 2.4412\tvalid_1's l2: 2.84493\n",
      "[2125]\ttraining's l2: 2.43798\tvalid_1's l2: 2.84484\n",
      "[2150]\ttraining's l2: 2.43415\tvalid_1's l2: 2.84453\n",
      "[2175]\ttraining's l2: 2.43101\tvalid_1's l2: 2.84423\n",
      "[2200]\ttraining's l2: 2.42774\tvalid_1's l2: 2.84377\n",
      "[2225]\ttraining's l2: 2.42462\tvalid_1's l2: 2.84326\n",
      "[2250]\ttraining's l2: 2.42186\tvalid_1's l2: 2.8431\n",
      "[2275]\ttraining's l2: 2.41809\tvalid_1's l2: 2.84258\n",
      "[2300]\ttraining's l2: 2.41503\tvalid_1's l2: 2.84263\n",
      "[2325]\ttraining's l2: 2.41216\tvalid_1's l2: 2.84254\n",
      "[2350]\ttraining's l2: 2.40916\tvalid_1's l2: 2.8422\n",
      "[2375]\ttraining's l2: 2.40613\tvalid_1's l2: 2.842\n",
      "[2400]\ttraining's l2: 2.4024\tvalid_1's l2: 2.84134\n",
      "[2425]\ttraining's l2: 2.39935\tvalid_1's l2: 2.84102\n",
      "[2450]\ttraining's l2: 2.39614\tvalid_1's l2: 2.84069\n",
      "[2475]\ttraining's l2: 2.39305\tvalid_1's l2: 2.84045\n",
      "[2500]\ttraining's l2: 2.38941\tvalid_1's l2: 2.83998\n",
      "[2525]\ttraining's l2: 2.38658\tvalid_1's l2: 2.83973\n",
      "[2550]\ttraining's l2: 2.38356\tvalid_1's l2: 2.83958\n",
      "[2575]\ttraining's l2: 2.37979\tvalid_1's l2: 2.8388\n",
      "[2600]\ttraining's l2: 2.37729\tvalid_1's l2: 2.83879\n",
      "[2625]\ttraining's l2: 2.3737\tvalid_1's l2: 2.83792\n",
      "[2650]\ttraining's l2: 2.37107\tvalid_1's l2: 2.83767\n",
      "[2675]\ttraining's l2: 2.36795\tvalid_1's l2: 2.83745\n",
      "[2700]\ttraining's l2: 2.36537\tvalid_1's l2: 2.83739\n",
      "[2725]\ttraining's l2: 2.36263\tvalid_1's l2: 2.83748\n",
      "[2750]\ttraining's l2: 2.35969\tvalid_1's l2: 2.83739\n",
      "[2775]\ttraining's l2: 2.3567\tvalid_1's l2: 2.83729\n",
      "[2800]\ttraining's l2: 2.35383\tvalid_1's l2: 2.8373\n",
      "[2825]\ttraining's l2: 2.35053\tvalid_1's l2: 2.83673\n",
      "[2850]\ttraining's l2: 2.34685\tvalid_1's l2: 2.83621\n",
      "[2875]\ttraining's l2: 2.3441\tvalid_1's l2: 2.83601\n",
      "[2900]\ttraining's l2: 2.34122\tvalid_1's l2: 2.83572\n",
      "[2925]\ttraining's l2: 2.33774\tvalid_1's l2: 2.83555\n",
      "[2950]\ttraining's l2: 2.33519\tvalid_1's l2: 2.83551\n",
      "[2975]\ttraining's l2: 2.33278\tvalid_1's l2: 2.83539\n",
      "[3000]\ttraining's l2: 2.32911\tvalid_1's l2: 2.83467\n",
      "[3025]\ttraining's l2: 2.32639\tvalid_1's l2: 2.83469\n",
      "[3050]\ttraining's l2: 2.32308\tvalid_1's l2: 2.83393\n",
      "[3075]\ttraining's l2: 2.32049\tvalid_1's l2: 2.83368\n",
      "[3100]\ttraining's l2: 2.31803\tvalid_1's l2: 2.83336\n",
      "[3125]\ttraining's l2: 2.31466\tvalid_1's l2: 2.83248\n",
      "[3150]\ttraining's l2: 2.31156\tvalid_1's l2: 2.83213\n",
      "[3175]\ttraining's l2: 2.30838\tvalid_1's l2: 2.83145\n",
      "[3200]\ttraining's l2: 2.30626\tvalid_1's l2: 2.83146\n",
      "[3225]\ttraining's l2: 2.30333\tvalid_1's l2: 2.83116\n",
      "[3250]\ttraining's l2: 2.30103\tvalid_1's l2: 2.83103\n",
      "[3275]\ttraining's l2: 2.29789\tvalid_1's l2: 2.83054\n",
      "[3300]\ttraining's l2: 2.2956\tvalid_1's l2: 2.83039\n",
      "[3325]\ttraining's l2: 2.29314\tvalid_1's l2: 2.83051\n",
      "[3350]\ttraining's l2: 2.29055\tvalid_1's l2: 2.83031\n",
      "[3375]\ttraining's l2: 2.28794\tvalid_1's l2: 2.82995\n",
      "[3400]\ttraining's l2: 2.28486\tvalid_1's l2: 2.82969\n",
      "[3425]\ttraining's l2: 2.28224\tvalid_1's l2: 2.82943\n",
      "[3450]\ttraining's l2: 2.28003\tvalid_1's l2: 2.8291\n",
      "[3475]\ttraining's l2: 2.27782\tvalid_1's l2: 2.82892\n",
      "[3500]\ttraining's l2: 2.27532\tvalid_1's l2: 2.82875\n",
      "[3525]\ttraining's l2: 2.27267\tvalid_1's l2: 2.8283\n",
      "[3550]\ttraining's l2: 2.27035\tvalid_1's l2: 2.82832\n",
      "[3575]\ttraining's l2: 2.2672\tvalid_1's l2: 2.82817\n",
      "[3600]\ttraining's l2: 2.26468\tvalid_1's l2: 2.8278\n",
      "[3625]\ttraining's l2: 2.26152\tvalid_1's l2: 2.82711\n",
      "[3650]\ttraining's l2: 2.25929\tvalid_1's l2: 2.82696\n",
      "[3675]\ttraining's l2: 2.25697\tvalid_1's l2: 2.82693\n",
      "[3700]\ttraining's l2: 2.25453\tvalid_1's l2: 2.82675\n",
      "[3725]\ttraining's l2: 2.25204\tvalid_1's l2: 2.82652\n",
      "[3750]\ttraining's l2: 2.24978\tvalid_1's l2: 2.82661\n",
      "[3775]\ttraining's l2: 2.24743\tvalid_1's l2: 2.8265\n",
      "[3800]\ttraining's l2: 2.24516\tvalid_1's l2: 2.8265\n",
      "[3825]\ttraining's l2: 2.24262\tvalid_1's l2: 2.82642\n",
      "[3850]\ttraining's l2: 2.24026\tvalid_1's l2: 2.82619\n",
      "[3875]\ttraining's l2: 2.23832\tvalid_1's l2: 2.82613\n",
      "[3900]\ttraining's l2: 2.23591\tvalid_1's l2: 2.82577\n",
      "[3925]\ttraining's l2: 2.2336\tvalid_1's l2: 2.82558\n",
      "[3950]\ttraining's l2: 2.23109\tvalid_1's l2: 2.82542\n",
      "[3975]\ttraining's l2: 2.22855\tvalid_1's l2: 2.82521\n",
      "[4000]\ttraining's l2: 2.22613\tvalid_1's l2: 2.82515\n",
      "[4025]\ttraining's l2: 2.22377\tvalid_1's l2: 2.82486\n",
      "[4050]\ttraining's l2: 2.22147\tvalid_1's l2: 2.82459\n",
      "[4075]\ttraining's l2: 2.21884\tvalid_1's l2: 2.8242\n",
      "[4100]\ttraining's l2: 2.21659\tvalid_1's l2: 2.82428\n",
      "[4125]\ttraining's l2: 2.21381\tvalid_1's l2: 2.82441\n",
      "[4150]\ttraining's l2: 2.21113\tvalid_1's l2: 2.82376\n",
      "[4175]\ttraining's l2: 2.20825\tvalid_1's l2: 2.82318\n",
      "[4200]\ttraining's l2: 2.20576\tvalid_1's l2: 2.8227\n",
      "[4225]\ttraining's l2: 2.20379\tvalid_1's l2: 2.82263\n",
      "[4250]\ttraining's l2: 2.20095\tvalid_1's l2: 2.82233\n",
      "[4275]\ttraining's l2: 2.19882\tvalid_1's l2: 2.82234\n",
      "[4300]\ttraining's l2: 2.19639\tvalid_1's l2: 2.82215\n",
      "[4325]\ttraining's l2: 2.19462\tvalid_1's l2: 2.82204\n",
      "[4350]\ttraining's l2: 2.1924\tvalid_1's l2: 2.82199\n",
      "[4375]\ttraining's l2: 2.18971\tvalid_1's l2: 2.82164\n",
      "[4400]\ttraining's l2: 2.18696\tvalid_1's l2: 2.82126\n",
      "[4425]\ttraining's l2: 2.18489\tvalid_1's l2: 2.82117\n",
      "[4450]\ttraining's l2: 2.18272\tvalid_1's l2: 2.82115\n",
      "[4475]\ttraining's l2: 2.18091\tvalid_1's l2: 2.82121\n",
      "[4500]\ttraining's l2: 2.17845\tvalid_1's l2: 2.82088\n",
      "[4525]\ttraining's l2: 2.1766\tvalid_1's l2: 2.82082\n",
      "[4550]\ttraining's l2: 2.17441\tvalid_1's l2: 2.82082\n",
      "[4575]\ttraining's l2: 2.17247\tvalid_1's l2: 2.82071\n",
      "[4600]\ttraining's l2: 2.17056\tvalid_1's l2: 2.82059\n",
      "[4625]\ttraining's l2: 2.16844\tvalid_1's l2: 2.82055\n",
      "[4650]\ttraining's l2: 2.166\tvalid_1's l2: 2.82018\n",
      "[4675]\ttraining's l2: 2.16427\tvalid_1's l2: 2.82016\n",
      "[4700]\ttraining's l2: 2.16191\tvalid_1's l2: 2.81988\n",
      "[4725]\ttraining's l2: 2.16008\tvalid_1's l2: 2.81993\n",
      "[4750]\ttraining's l2: 2.15816\tvalid_1's l2: 2.81978\n",
      "[4775]\ttraining's l2: 2.15622\tvalid_1's l2: 2.8197\n",
      "[4800]\ttraining's l2: 2.15438\tvalid_1's l2: 2.81964\n",
      "[4825]\ttraining's l2: 2.15264\tvalid_1's l2: 2.81952\n",
      "[4850]\ttraining's l2: 2.15082\tvalid_1's l2: 2.8197\n",
      "[4875]\ttraining's l2: 2.14905\tvalid_1's l2: 2.81986\n",
      "[4900]\ttraining's l2: 2.14729\tvalid_1's l2: 2.8199\n",
      "[4925]\ttraining's l2: 2.1455\tvalid_1's l2: 2.81995\n",
      "Early stopping, best iteration is:\n",
      "[4828]\ttraining's l2: 2.15247\tvalid_1's l2: 2.8195\n"
     ]
    }
   ],
   "source": [
    "model2 = LGBMRegressor(\n",
    "        n_estimators=10000,\n",
    "        learning_rate=0.03,\n",
    "        boosting_type= 'gbdt',\n",
    "#         objective='multiclass',\n",
    "        colsample_bytree=.8,\n",
    "        subsample=.8,\n",
    "        max_depth=5,\n",
    "#         num_class=3\n",
    "        #feval = row_wise_f1_score_micro\n",
    "        )\n",
    "\n",
    "# Entrenamiento:\n",
    "model2 = param.fit(train_x, train_y, \n",
    "                eval_set= [(train_x, train_y), (valid_x, valid_y)], \n",
    "                categorical_feature = vars_cat,\n",
    "#                 eval_metric=['multi_error'],\n",
    "                verbose=25,\n",
    "                early_stopping_rounds=100,\n",
    "                #feval = row_wise_f1_score_micro\n",
    "               )"
   ]
  },
  {
   "cell_type": "code",
   "execution_count": 190,
   "id": "f50e0d85-6e44-425a-9738-df27313a9438",
   "metadata": {
    "execution": {
     "iopub.execute_input": "2022-05-13T00:26:24.310700Z",
     "iopub.status.busy": "2022-05-13T00:26:24.310222Z",
     "iopub.status.idle": "2022-05-13T00:26:34.413868Z",
     "shell.execute_reply": "2022-05-13T00:26:34.413241Z",
     "shell.execute_reply.started": "2022-05-13T00:26:24.310657Z"
    },
    "tags": []
   },
   "outputs": [
    {
     "data": {
      "text/plain": [
       "25.105441249579037"
      ]
     },
     "execution_count": 190,
     "metadata": {},
     "output_type": "execute_result"
    }
   ],
   "source": [
    "predict_train2 = model2.predict(valid_x)\n",
    "f1_score(valid_y,predict_train2.round(),average=\"micro\")*100"
   ]
  },
  {
   "cell_type": "code",
   "execution_count": 192,
   "id": "4037f9d0-afc0-4287-a144-1efe7844162a",
   "metadata": {
    "execution": {
     "iopub.execute_input": "2022-05-13T00:27:52.692059Z",
     "iopub.status.busy": "2022-05-13T00:27:52.690537Z",
     "iopub.status.idle": "2022-05-13T00:27:52.762990Z",
     "shell.execute_reply": "2022-05-13T00:27:52.762172Z",
     "shell.execute_reply.started": "2022-05-13T00:27:52.691992Z"
    },
    "tags": []
   },
   "outputs": [
    {
     "data": {
      "text/plain": [
       "24.664432220921466"
      ]
     },
     "execution_count": 192,
     "metadata": {},
     "output_type": "execute_result"
    }
   ],
   "source": [
    "quantiles = train.loc[train_x.index, 'rating'].value_counts(normalize=True).sort_index().cumsum()\n",
    "quantiles = list(quantiles)\n",
    "predict_train2_2 = pd.qcut(predict_train, [0] + quantiles, labels=np.arange(1, 11, 1)).astype(int)\n",
    "f1_score(valid_y,predict_train2_2,average=\"micro\")*100"
   ]
  },
  {
   "cell_type": "code",
   "execution_count": null,
   "id": "5b1915ca-78d8-4996-be22-db57065f89ee",
   "metadata": {},
   "outputs": [],
   "source": []
  },
  {
   "cell_type": "code",
   "execution_count": 201,
   "id": "10847cfa-db85-4291-8cc4-56b0b19be9a7",
   "metadata": {
    "execution": {
     "iopub.execute_input": "2022-05-13T00:30:08.172562Z",
     "iopub.status.busy": "2022-05-13T00:30:08.171706Z",
     "iopub.status.idle": "2022-05-13T00:30:08.240261Z",
     "shell.execute_reply": "2022-05-13T00:30:08.239057Z",
     "shell.execute_reply.started": "2022-05-13T00:30:08.172496Z"
    },
    "tags": []
   },
   "outputs": [
    {
     "data": {
      "text/plain": [
       "24.872909216286864"
      ]
     },
     "execution_count": 201,
     "metadata": {},
     "output_type": "execute_result"
    }
   ],
   "source": [
    "predict_train_1_2 = predict_train1 + predict_train2/predict_train2.max()\n",
    "predict_train_1_2 = pd.qcut(predict_train_1_2, [0] + quantiles, labels=np.arange(1, 11, 1)).astype(int)\n",
    "f1_score(valid_y,predict_train_1_2,average=\"micro\")*100"
   ]
  },
  {
   "cell_type": "code",
   "execution_count": 202,
   "id": "75f23a56-6b33-4be7-855b-1a749c3db040",
   "metadata": {
    "execution": {
     "iopub.execute_input": "2022-05-13T00:30:27.729447Z",
     "iopub.status.busy": "2022-05-13T00:30:27.728779Z",
     "iopub.status.idle": "2022-05-13T00:30:27.838940Z",
     "shell.execute_reply": "2022-05-13T00:30:27.838548Z",
     "shell.execute_reply.started": "2022-05-13T00:30:27.729396Z"
    }
   },
   "outputs": [
    {
     "data": {
      "text/plain": [
       "<AxesSubplot:>"
      ]
     },
     "execution_count": 202,
     "metadata": {},
     "output_type": "execute_result"
    },
    {
     "data": {
      "image/png": "[encoded data removed]",
      "text/plain": [
       "<Figure size 432x288 with 1 Axes>"
      ]
     },
     "metadata": {
      "needs_background": "light"
     },
     "output_type": "display_data"
    }
   ],
   "source": [
    "pd.Series(predict_train_1_2).hist()"
   ]
  },
  {
   "cell_type": "code",
   "execution_count": 206,
   "id": "ca75e972-3562-4fd6-8893-96724633f9ad",
   "metadata": {
    "execution": {
     "iopub.execute_input": "2022-05-13T00:32:16.005275Z",
     "iopub.status.busy": "2022-05-13T00:32:16.004720Z",
     "iopub.status.idle": "2022-05-13T00:32:16.038932Z",
     "shell.execute_reply": "2022-05-13T00:32:16.038348Z",
     "shell.execute_reply.started": "2022-05-13T00:32:16.005241Z"
    },
    "tags": []
   },
   "outputs": [
    {
     "data": {
      "text/plain": [
       "23.91712237599628"
      ]
     },
     "execution_count": 206,
     "metadata": {},
     "output_type": "execute_result"
    }
   ],
   "source": [
    "f1_score(valid_y,predict_train_1_2,average=\"micro\")*100"
   ]
  },
  {
   "cell_type": "code",
   "execution_count": 196,
   "id": "3090a192-b196-4423-8978-556d2eceb51b",
   "metadata": {
    "execution": {
     "iopub.execute_input": "2022-05-13T00:28:57.790594Z",
     "iopub.status.busy": "2022-05-13T00:28:57.790075Z",
     "iopub.status.idle": "2022-05-13T00:28:57.799960Z",
     "shell.execute_reply": "2022-05-13T00:28:57.798143Z",
     "shell.execute_reply.started": "2022-05-13T00:28:57.790553Z"
    }
   },
   "outputs": [
    {
     "data": {
      "text/plain": [
       "array([ 7,  8,  8, ...,  8, 10,  8])"
      ]
     },
     "execution_count": 196,
     "metadata": {},
     "output_type": "execute_result"
    }
   ],
   "source": [
    "predict_train1"
   ]
  },
  {
   "cell_type": "code",
   "execution_count": 200,
   "id": "d81cf666-cf5a-4a34-9193-7578fdec359c",
   "metadata": {
    "execution": {
     "iopub.execute_input": "2022-05-13T00:29:45.351749Z",
     "iopub.status.busy": "2022-05-13T00:29:45.351251Z",
     "iopub.status.idle": "2022-05-13T00:29:45.361931Z",
     "shell.execute_reply": "2022-05-13T00:29:45.360897Z",
     "shell.execute_reply.started": "2022-05-13T00:29:45.351697Z"
    },
    "tags": []
   },
   "outputs": [
    {
     "data": {
      "text/plain": [
       "array([6.92463731, 8.43166876, 7.59671342, ..., 6.7492077 , 8.02697581,\n",
       "       7.97460193])"
      ]
     },
     "execution_count": 200,
     "metadata": {},
     "output_type": "execute_result"
    }
   ],
   "source": [
    "predict_train2"
   ]
  },
  {
   "cell_type": "code",
   "execution_count": 203,
   "id": "2b4aea64-c5a9-45b5-bc7f-c9395f4df522",
   "metadata": {
    "execution": {
     "iopub.execute_input": "2022-05-13T00:31:03.062364Z",
     "iopub.status.busy": "2022-05-13T00:31:03.061531Z",
     "iopub.status.idle": "2022-05-13T00:31:03.074800Z",
     "shell.execute_reply": "2022-05-13T00:31:03.073572Z",
     "shell.execute_reply.started": "2022-05-13T00:31:03.062272Z"
    }
   },
   "outputs": [
    {
     "data": {
      "text/plain": [
       "array([ 5,  9,  8, ...,  6, 10,  8])"
      ]
     },
     "execution_count": 203,
     "metadata": {},
     "output_type": "execute_result"
    }
   ],
   "source": [
    "predict_train_1_2"
   ]
  },
  {
   "cell_type": "code",
   "execution_count": null,
   "id": "c69b2e74-4276-42d1-ab2a-642890190ae5",
   "metadata": {},
   "outputs": [],
   "source": []
  },
  {
   "cell_type": "code",
   "execution_count": null,
   "id": "a219247c-c483-4f45-8326-746f3b43f8ab",
   "metadata": {},
   "outputs": [],
   "source": []
  },
  {
   "cell_type": "code",
   "execution_count": 122,
   "id": "28acab99-90ae-4333-ae49-f55d0c3bbfed",
   "metadata": {
    "execution": {
     "iopub.execute_input": "2022-05-13T00:07:23.881746Z",
     "iopub.status.busy": "2022-05-13T00:07:23.880988Z",
     "iopub.status.idle": "2022-05-13T00:07:23.892433Z",
     "shell.execute_reply": "2022-05-13T00:07:23.890979Z",
     "shell.execute_reply.started": "2022-05-13T00:07:23.881656Z"
    },
    "tags": []
   },
   "outputs": [],
   "source": [
    "# def f1_score_micro(preds, data):\n",
    "#     labels = data.get_label()\n",
    "#     preds = preds.reshape(len(np.unique(labels)), -1)\n",
    "#     preds = preds.argmax(axis = 0)\n",
    "#     return 'f1_score_micro', f1_score(labels, preds, average='micro'), True"
   ]
  },
  {
   "cell_type": "code",
   "execution_count": 61,
   "id": "597fec07-3870-44cd-8deb-e1ce09bf2c8c",
   "metadata": {
    "execution": {
     "iopub.execute_input": "2022-05-12T23:49:45.079334Z",
     "iopub.status.busy": "2022-05-12T23:49:45.079136Z",
     "iopub.status.idle": "2022-05-12T23:49:45.081986Z",
     "shell.execute_reply": "2022-05-12T23:49:45.081350Z",
     "shell.execute_reply.started": "2022-05-12T23:49:45.079314Z"
    },
    "scrolled": true,
    "tags": []
   },
   "outputs": [],
   "source": [
    "# MODEL_PARAMS_LGB = {\n",
    "#     'n_estimators': 10000,\n",
    "#     'learning_rate': 0.03,\n",
    "#     'boosting_type': 'gbdt',\n",
    "#     'objective': 'multiclass',\n",
    "#     'colsample_bytree': .8,\n",
    "#     'subsample': .8,\n",
    "#     'max_depth': 5,\n",
    "#     'num_class': 10,\n",
    "# }\n",
    "# FIT_PARAMS_LGB = {\"early_stopping_rounds\": 100, \"verbose_eval\":25,}\n",
    "\n",
    "# lgb_tr = lgb.Dataset(train_x, train_y)\n",
    "# lgb_val = lgb.Dataset(valid_x, valid_y)\n",
    "\n",
    "# model = lgb.train(\n",
    "#     MODEL_PARAMS_LGB, lgb_tr, **FIT_PARAMS_LGB,\n",
    "#     valid_names=['train', 'valid'], valid_sets=[lgb_tr, lgb_val],\n",
    "#     fobj=None,\n",
    "#     feval=f1_score_micro  # <= set custom metric function\n",
    "# )"
   ]
  },
  {
   "cell_type": "code",
   "execution_count": 115,
   "id": "8f59ff4c-bd6b-4395-9d65-6c4572eff8cd",
   "metadata": {
    "execution": {
     "iopub.execute_input": "2022-05-13T01:00:49.696678Z",
     "iopub.status.busy": "2022-05-13T01:00:49.695458Z",
     "iopub.status.idle": "2022-05-13T01:00:49.860619Z",
     "shell.execute_reply": "2022-05-13T01:00:49.860247Z",
     "shell.execute_reply.started": "2022-05-13T01:00:49.696609Z"
    },
    "scrolled": true,
    "tags": []
   },
   "outputs": [
    {
     "data": {
      "text/plain": [
       "user_id\n",
       "00038787e6    8.0\n",
       "00063cb5da    7.0\n",
       "000836ac15    7.0\n",
       "000d20cbc6    5.0\n",
       "000f564b70    8.0\n",
       "             ... \n",
       "fff6a9143a    8.0\n",
       "fff6b0bf88    7.0\n",
       "fffa709684    8.0\n",
       "fffe1ddcc0    8.0\n",
       "fffea28543    5.0\n",
       "Name: mean, Length: 18216, dtype: float64"
      ]
     },
     "execution_count": 115,
     "metadata": {},
     "output_type": "execute_result"
    }
   ],
   "source": [
    "sub_train = train.loc[train_x.index].groupby('user_id')['rating'].agg(['count', 'mean', 'std'])\n",
    "sub_train['coef_var'] = sub_train['std'] / sub_train['mean']\n",
    "idx = (sub_train['count'] > 0) & (sub_train['coef_var'] < 9)\n",
    "overwrite = sub_train[idx]['mean'].round()\n",
    "overwrite"
   ]
  },
  {
   "cell_type": "code",
   "execution_count": 117,
   "id": "94da3d7c-1094-4dfa-acdf-2875cb5195a9",
   "metadata": {
    "execution": {
     "iopub.execute_input": "2022-05-13T01:01:16.837233Z",
     "iopub.status.busy": "2022-05-13T01:01:16.836858Z",
     "iopub.status.idle": "2022-05-13T01:01:16.861612Z",
     "shell.execute_reply": "2022-05-13T01:01:16.861002Z",
     "shell.execute_reply.started": "2022-05-13T01:01:16.837201Z"
    },
    "tags": []
   },
   "outputs": [
    {
     "data": {
      "text/plain": [
       "223340    89429e811b\n",
       "104657    615135c0cb\n",
       "138814    08eac1d7ee\n",
       "149848    27a8c2ba1c\n",
       "183747    00005d011d\n",
       "             ...    \n",
       "219934    4e33d5d7de\n",
       "36492     ae47369a1a\n",
       "210756    de65a3fb6d\n",
       "45324     c0bc33be2e\n",
       "215806    3ffb3ca718\n",
       "Name: user_id, Length: 62357, dtype: object"
      ]
     },
     "execution_count": 117,
     "metadata": {},
     "output_type": "execute_result"
    }
   ],
   "source": [
    "train.loc[valid_y.index, 'user_id']"
   ]
  },
  {
   "cell_type": "code",
   "execution_count": 118,
   "id": "db05c4f8-36ec-4727-87e8-444012fd1044",
   "metadata": {
    "execution": {
     "iopub.execute_input": "2022-05-13T01:01:17.002605Z",
     "iopub.status.busy": "2022-05-13T01:01:17.002154Z",
     "iopub.status.idle": "2022-05-13T01:01:17.038915Z",
     "shell.execute_reply": "2022-05-13T01:01:17.038516Z",
     "shell.execute_reply.started": "2022-05-13T01:01:17.002558Z"
    },
    "tags": []
   },
   "outputs": [
    {
     "data": {
      "text/html": [
       "<div>\n",
       "<style scoped>\n",
       "    .dataframe tbody tr th:only-of-type {\n",
       "        vertical-align: middle;\n",
       "    }\n",
       "\n",
       "    .dataframe tbody tr th {\n",
       "        vertical-align: top;\n",
       "    }\n",
       "\n",
       "    .dataframe thead th {\n",
       "        text-align: right;\n",
       "    }\n",
       "</style>\n",
       "<table border=\"1\" class=\"dataframe\">\n",
       "  <thead>\n",
       "    <tr style=\"text-align: right;\">\n",
       "      <th></th>\n",
       "      <th>rating</th>\n",
       "      <th>user_id</th>\n",
       "      <th>rating_overwrite</th>\n",
       "      <th>rating_final</th>\n",
       "    </tr>\n",
       "  </thead>\n",
       "  <tbody>\n",
       "    <tr>\n",
       "      <th>223340</th>\n",
       "      <td>7</td>\n",
       "      <td>89429e811b</td>\n",
       "      <td>7.0</td>\n",
       "      <td>7</td>\n",
       "    </tr>\n",
       "    <tr>\n",
       "      <th>104657</th>\n",
       "      <td>8</td>\n",
       "      <td>615135c0cb</td>\n",
       "      <td>NaN</td>\n",
       "      <td>8</td>\n",
       "    </tr>\n",
       "    <tr>\n",
       "      <th>138814</th>\n",
       "      <td>8</td>\n",
       "      <td>08eac1d7ee</td>\n",
       "      <td>8.0</td>\n",
       "      <td>8</td>\n",
       "    </tr>\n",
       "    <tr>\n",
       "      <th>149848</th>\n",
       "      <td>8</td>\n",
       "      <td>27a8c2ba1c</td>\n",
       "      <td>9.0</td>\n",
       "      <td>9</td>\n",
       "    </tr>\n",
       "    <tr>\n",
       "      <th>183747</th>\n",
       "      <td>5</td>\n",
       "      <td>00005d011d</td>\n",
       "      <td>NaN</td>\n",
       "      <td>5</td>\n",
       "    </tr>\n",
       "    <tr>\n",
       "      <th>...</th>\n",
       "      <td>...</td>\n",
       "      <td>...</td>\n",
       "      <td>...</td>\n",
       "      <td>...</td>\n",
       "    </tr>\n",
       "    <tr>\n",
       "      <th>219934</th>\n",
       "      <td>8</td>\n",
       "      <td>4e33d5d7de</td>\n",
       "      <td>NaN</td>\n",
       "      <td>8</td>\n",
       "    </tr>\n",
       "    <tr>\n",
       "      <th>36492</th>\n",
       "      <td>8</td>\n",
       "      <td>ae47369a1a</td>\n",
       "      <td>NaN</td>\n",
       "      <td>8</td>\n",
       "    </tr>\n",
       "    <tr>\n",
       "      <th>210756</th>\n",
       "      <td>8</td>\n",
       "      <td>de65a3fb6d</td>\n",
       "      <td>7.0</td>\n",
       "      <td>7</td>\n",
       "    </tr>\n",
       "    <tr>\n",
       "      <th>45324</th>\n",
       "      <td>10</td>\n",
       "      <td>c0bc33be2e</td>\n",
       "      <td>9.0</td>\n",
       "      <td>9</td>\n",
       "    </tr>\n",
       "    <tr>\n",
       "      <th>215806</th>\n",
       "      <td>8</td>\n",
       "      <td>3ffb3ca718</td>\n",
       "      <td>8.0</td>\n",
       "      <td>8</td>\n",
       "    </tr>\n",
       "  </tbody>\n",
       "</table>\n",
       "<p>62357 rows × 4 columns</p>\n",
       "</div>"
      ],
      "text/plain": [
       "        rating     user_id  rating_overwrite  rating_final\n",
       "223340       7  89429e811b               7.0             7\n",
       "104657       8  615135c0cb               NaN             8\n",
       "138814       8  08eac1d7ee               8.0             8\n",
       "149848       8  27a8c2ba1c               9.0             9\n",
       "183747       5  00005d011d               NaN             5\n",
       "...        ...         ...               ...           ...\n",
       "219934       8  4e33d5d7de               NaN             8\n",
       "36492        8  ae47369a1a               NaN             8\n",
       "210756       8  de65a3fb6d               7.0             7\n",
       "45324       10  c0bc33be2e               9.0             9\n",
       "215806       8  3ffb3ca718               8.0             8\n",
       "\n",
       "[62357 rows x 4 columns]"
      ]
     },
     "execution_count": 118,
     "metadata": {},
     "output_type": "execute_result"
    }
   ],
   "source": [
    "sub_test = pd.DataFrame(predict_train1.copy(), valid_y.index, columns=['rating'])\n",
    "sub_test['user_id'] = train.loc[valid_y.index, 'user_id']\n",
    "sub_test['rating_overwrite'] = sub_test['user_id'].map(overwrite)\n",
    "sub_test['rating_final'] = sub_test['rating_overwrite'].fillna(sub_test['rating']).astype(int)\n",
    "sub_test"
   ]
  },
  {
   "cell_type": "code",
   "execution_count": 119,
   "id": "6262b49f-7308-4913-86ec-41eab49f9b37",
   "metadata": {
    "execution": {
     "iopub.execute_input": "2022-05-13T01:01:17.161075Z",
     "iopub.status.busy": "2022-05-13T01:01:17.160535Z",
     "iopub.status.idle": "2022-05-13T01:01:17.200629Z",
     "shell.execute_reply": "2022-05-13T01:01:17.200249Z",
     "shell.execute_reply.started": "2022-05-13T01:01:17.161026Z"
    },
    "tags": []
   },
   "outputs": [
    {
     "data": {
      "text/plain": [
       "27.385858845037447"
      ]
     },
     "execution_count": 119,
     "metadata": {},
     "output_type": "execute_result"
    }
   ],
   "source": [
    "f1_score(valid_y,sub_test['rating_final'],average=\"micro\")*100"
   ]
  },
  {
   "cell_type": "code",
   "execution_count": null,
   "id": "0d4b9237-aeaf-4bff-b9e3-3079b898ac12",
   "metadata": {},
   "outputs": [],
   "source": []
  },
  {
   "cell_type": "code",
   "execution_count": null,
   "id": "8d36723a-7034-466e-a0aa-9bed61e01206",
   "metadata": {},
   "outputs": [],
   "source": []
  },
  {
   "cell_type": "code",
   "execution_count": null,
   "id": "6b62ff97-9d6a-409d-9b02-5a4f40eb3d49",
   "metadata": {},
   "outputs": [],
   "source": []
  },
  {
   "cell_type": "code",
   "execution_count": null,
   "id": "356c78a3-4f3a-427d-a12b-265cbf76f343",
   "metadata": {},
   "outputs": [],
   "source": [
    "# Haciendo la prediccion:\n",
    "predict_train = lgbm_model.predict(valid_x)\n",
    "print(predict_train)"
   ]
  },
  {
   "cell_type": "code",
   "execution_count": 174,
   "id": "9887bf0e-f9af-41a5-a9a1-e1c7b9634c35",
   "metadata": {
    "execution": {
     "iopub.execute_input": "2022-05-13T00:19:56.509215Z",
     "iopub.status.busy": "2022-05-13T00:19:56.508488Z",
     "iopub.status.idle": "2022-05-13T00:19:56.518510Z",
     "shell.execute_reply": "2022-05-13T00:19:56.517466Z",
     "shell.execute_reply.started": "2022-05-13T00:19:56.509131Z"
    },
    "tags": []
   },
   "outputs": [
    {
     "name": "stdout",
     "output_type": "stream",
     "text": [
      "[7. 8. 8. ... 7. 8. 8.]\n"
     ]
    }
   ],
   "source": [
    "predict_train_f = predict_train.round()\n",
    "print(predict_train_f)"
   ]
  },
  {
   "cell_type": "code",
   "execution_count": 150,
   "id": "8742c9d6-c2ef-42f0-a586-236cb5622820",
   "metadata": {
    "execution": {
     "iopub.execute_input": "2022-05-13T00:15:31.766369Z",
     "iopub.status.busy": "2022-05-13T00:15:31.766225Z",
     "iopub.status.idle": "2022-05-13T00:15:31.799349Z",
     "shell.execute_reply": "2022-05-13T00:15:31.798891Z",
     "shell.execute_reply.started": "2022-05-13T00:15:31.766355Z"
    },
    "tags": []
   },
   "outputs": [
    {
     "data": {
      "text/plain": [
       "25.105441249579037"
      ]
     },
     "execution_count": 150,
     "metadata": {},
     "output_type": "execute_result"
    }
   ],
   "source": [
    "f1_score(valid_y,predict_train_f,average=\"micro\")*100"
   ]
  },
  {
   "cell_type": "code",
   "execution_count": 157,
   "id": "139f98ce-035b-4d54-a19f-c1f52ff79eef",
   "metadata": {
    "execution": {
     "iopub.execute_input": "2022-05-13T00:16:48.473916Z",
     "iopub.status.busy": "2022-05-13T00:16:48.473419Z",
     "iopub.status.idle": "2022-05-13T00:16:48.582934Z",
     "shell.execute_reply": "2022-05-13T00:16:48.582419Z",
     "shell.execute_reply.started": "2022-05-13T00:16:48.473867Z"
    }
   },
   "outputs": [
    {
     "data": {
      "text/plain": [
       "<AxesSubplot:>"
      ]
     },
     "execution_count": 157,
     "metadata": {},
     "output_type": "execute_result"
    },
    {
     "data": {
      "image/png": "[encoded data removed]",
      "text/plain": [
       "<Figure size 432x288 with 1 Axes>"
      ]
     },
     "metadata": {
      "needs_background": "light"
     },
     "output_type": "display_data"
    }
   ],
   "source": [
    "train['rating'].hist()"
   ]
  },
  {
   "cell_type": "code",
   "execution_count": 169,
   "id": "d1ca5f12-9e2e-4cab-92e4-9a559065b263",
   "metadata": {
    "execution": {
     "iopub.execute_input": "2022-05-13T00:19:07.534517Z",
     "iopub.status.busy": "2022-05-13T00:19:07.534050Z",
     "iopub.status.idle": "2022-05-13T00:19:07.549758Z",
     "shell.execute_reply": "2022-05-13T00:19:07.548755Z",
     "shell.execute_reply.started": "2022-05-13T00:19:07.534473Z"
    },
    "tags": []
   },
   "outputs": [
    {
     "data": {
      "text/plain": [
       "[0.0038568553398603193,\n",
       " 0.010043058863149792,\n",
       " 0.02338168434726131,\n",
       " 0.043223240560326504,\n",
       " 0.1613945619141549,\n",
       " 0.2439481048487327,\n",
       " 0.4169332788081435,\n",
       " 0.6561104295462382,\n",
       " 0.8144579955578007,\n",
       " 1.0]"
      ]
     },
     "execution_count": 169,
     "metadata": {},
     "output_type": "execute_result"
    }
   ],
   "source": [
    "quantiles = train['rating'].value_counts(normalize=True).sort_index().cumsum()\n",
    "quantiles = list(quantiles)\n",
    "quantiles"
   ]
  },
  {
   "cell_type": "code",
   "execution_count": 180,
   "id": "865eadf5-f1cb-4acf-8194-4f87714ad873",
   "metadata": {
    "execution": {
     "iopub.execute_input": "2022-05-13T00:20:39.405924Z",
     "iopub.status.busy": "2022-05-13T00:20:39.405346Z",
     "iopub.status.idle": "2022-05-13T00:20:39.524065Z",
     "shell.execute_reply": "2022-05-13T00:20:39.523677Z",
     "shell.execute_reply.started": "2022-05-13T00:20:39.405868Z"
    },
    "tags": []
   },
   "outputs": [
    {
     "data": {
      "text/plain": [
       "<AxesSubplot:>"
      ]
     },
     "execution_count": 180,
     "metadata": {},
     "output_type": "execute_result"
    },
    {
     "data": {
      "image/png": "[encoded data removed]",
      "text/plain": [
       "<Figure size 432x288 with 1 Axes>"
      ]
     },
     "metadata": {
      "needs_background": "light"
     },
     "output_type": "display_data"
    }
   ],
   "source": [
    "pd.Series(predict_train_f).hist()"
   ]
  },
  {
   "cell_type": "code",
   "execution_count": 184,
   "id": "de499a12-a063-4f6a-82f9-9f3fa6bc9069",
   "metadata": {
    "execution": {
     "iopub.execute_input": "2022-05-13T00:21:17.444191Z",
     "iopub.status.busy": "2022-05-13T00:21:17.443551Z",
     "iopub.status.idle": "2022-05-13T00:21:17.573844Z",
     "shell.execute_reply": "2022-05-13T00:21:17.573357Z",
     "shell.execute_reply.started": "2022-05-13T00:21:17.444140Z"
    },
    "tags": []
   },
   "outputs": [
    {
     "data": {
      "text/plain": [
       "<matplotlib.collections.PathCollection at 0x7fb62c2b7a60>"
      ]
     },
     "execution_count": 184,
     "metadata": {},
     "output_type": "execute_result"
    },
    {
     "data": {
      "image/png": "[encoded data removed]",
      "text/plain": [
       "<Figure size 432x288 with 1 Axes>"
      ]
     },
     "metadata": {
      "needs_background": "light"
     },
     "output_type": "display_data"
    }
   ],
   "source": [
    "plt.scatter(predict_train, predict_train_f)"
   ]
  },
  {
   "cell_type": "code",
   "execution_count": null,
   "id": "f9bb8a7d-b862-41c9-aec5-0f6955c0feb4",
   "metadata": {},
   "outputs": [],
   "source": []
  },
  {
   "cell_type": "code",
   "execution_count": 178,
   "id": "32845659-1930-4d5e-a1da-df51584df306",
   "metadata": {
    "execution": {
     "iopub.execute_input": "2022-05-13T00:20:23.919510Z",
     "iopub.status.busy": "2022-05-13T00:20:23.919110Z",
     "iopub.status.idle": "2022-05-13T00:20:23.972250Z",
     "shell.execute_reply": "2022-05-13T00:20:23.971577Z",
     "shell.execute_reply.started": "2022-05-13T00:20:23.919475Z"
    },
    "tags": []
   },
   "outputs": [
    {
     "data": {
      "text/plain": [
       "24.664432220921466"
      ]
     },
     "execution_count": 178,
     "metadata": {},
     "output_type": "execute_result"
    }
   ],
   "source": [
    "# Ajuste a la Distribución\n",
    "predict_train_f = pd.qcut(predict_train, [0] + quantiles, labels=np.arange(1, 11, 1)).astype(int)\n",
    "\n",
    "f1_score(valid_y,predict_train_f,average=\"micro\")*100"
   ]
  },
  {
   "cell_type": "code",
   "execution_count": 80,
   "id": "ee63a963-82d1-479c-b2dd-de0306b4c4ca",
   "metadata": {
    "execution": {
     "iopub.execute_input": "2022-05-12T23:52:08.565916Z",
     "iopub.status.busy": "2022-05-12T23:52:08.565500Z",
     "iopub.status.idle": "2022-05-12T23:52:08.580183Z",
     "shell.execute_reply": "2022-05-12T23:52:08.578835Z",
     "shell.execute_reply.started": "2022-05-12T23:52:08.565879Z"
    },
    "tags": []
   },
   "outputs": [
    {
     "data": {
      "text/plain": [
       "{'city': 716607.2711709738,\n",
       " 'author': 241180.72864809632,\n",
       " 'publisher': 165328.17694443278,\n",
       " 'title': 147207.67823186517,\n",
       " 'age': 121038.03687195724,\n",
       " 'province': 104673.46620615572,\n",
       " 'year': 72369.893368356,\n",
       " 'country': 8607.884432792664}"
      ]
     },
     "execution_count": 80,
     "metadata": {},
     "output_type": "execute_result"
    }
   ],
   "source": [
    "dict(sorted(zip(lgbm_model.feature_name_, lgbm_model.booster_.feature_importance(importance_type='gain')),\n",
    "                       key=lambda item: item[1],\n",
    "                       reverse=True\n",
    "                      )\n",
    "               )"
   ]
  },
  {
   "cell_type": "code",
   "execution_count": 18,
   "id": "a966ffce-3764-4552-a877-4eb886f66f10",
   "metadata": {
    "execution": {
     "iopub.execute_input": "2022-05-12T22:48:14.840399Z",
     "iopub.status.busy": "2022-05-12T22:48:14.840210Z",
     "iopub.status.idle": "2022-05-12T22:48:20.886402Z",
     "shell.execute_reply": "2022-05-12T22:48:20.885741Z",
     "shell.execute_reply.started": "2022-05-12T22:48:14.840382Z"
    }
   },
   "outputs": [],
   "source": [
    "# Haciendo la prediccion:\n",
    "predict_test = lgbm_model.predict(test[vars_in])"
   ]
  },
  {
   "cell_type": "code",
   "execution_count": 19,
   "id": "c1094cad-d3c4-47f0-ad08-b8c052a565d6",
   "metadata": {
    "execution": {
     "iopub.execute_input": "2022-05-12T22:48:20.887578Z",
     "iopub.status.busy": "2022-05-12T22:48:20.887455Z",
     "iopub.status.idle": "2022-05-12T22:48:20.893808Z",
     "shell.execute_reply": "2022-05-12T22:48:20.893499Z",
     "shell.execute_reply.started": "2022-05-12T22:48:20.887562Z"
    },
    "tags": []
   },
   "outputs": [
    {
     "data": {
      "text/html": [
       "<div>\n",
       "<style scoped>\n",
       "    .dataframe tbody tr th:only-of-type {\n",
       "        vertical-align: middle;\n",
       "    }\n",
       "\n",
       "    .dataframe tbody tr th {\n",
       "        vertical-align: top;\n",
       "    }\n",
       "\n",
       "    .dataframe thead th {\n",
       "        text-align: right;\n",
       "    }\n",
       "</style>\n",
       "<table border=\"1\" class=\"dataframe\">\n",
       "  <thead>\n",
       "    <tr style=\"text-align: right;\">\n",
       "      <th></th>\n",
       "      <th>id</th>\n",
       "      <th>rating</th>\n",
       "    </tr>\n",
       "  </thead>\n",
       "  <tbody>\n",
       "    <tr>\n",
       "      <th>0</th>\n",
       "      <td>f38f854b31509133</td>\n",
       "      <td>8</td>\n",
       "    </tr>\n",
       "    <tr>\n",
       "      <th>1</th>\n",
       "      <td>aadb34054d6c8a12</td>\n",
       "      <td>8</td>\n",
       "    </tr>\n",
       "    <tr>\n",
       "      <th>2</th>\n",
       "      <td>87b031bdd906e26d</td>\n",
       "      <td>8</td>\n",
       "    </tr>\n",
       "    <tr>\n",
       "      <th>3</th>\n",
       "      <td>371562c1c36bb8d5</td>\n",
       "      <td>8</td>\n",
       "    </tr>\n",
       "    <tr>\n",
       "      <th>4</th>\n",
       "      <td>3ebb7df64a2896be</td>\n",
       "      <td>8</td>\n",
       "    </tr>\n",
       "  </tbody>\n",
       "</table>\n",
       "</div>"
      ],
      "text/plain": [
       "                 id  rating\n",
       "0  f38f854b31509133       8\n",
       "1  aadb34054d6c8a12       8\n",
       "2  87b031bdd906e26d       8\n",
       "3  371562c1c36bb8d5       8\n",
       "4  3ebb7df64a2896be       8"
      ]
     },
     "execution_count": 19,
     "metadata": {},
     "output_type": "execute_result"
    }
   ],
   "source": [
    "submission_test = pd.DataFrame({'id':test[\"id\"],\n",
    "                                 'rating':predict_test})\n",
    "submission_test.head()"
   ]
  },
  {
   "cell_type": "code",
   "execution_count": null,
   "id": "cb26baf3-a0a5-4244-8299-90a0e7905525",
   "metadata": {},
   "outputs": [],
   "source": []
  },
  {
   "cell_type": "code",
   "execution_count": null,
   "id": "48b1a9da-d032-49db-b1af-7d75db5d3f26",
   "metadata": {},
   "outputs": [],
   "source": []
  },
  {
   "cell_type": "code",
   "execution_count": null,
   "id": "43ddfb02-d9e8-456c-ab05-80f17167b7e0",
   "metadata": {},
   "outputs": [],
   "source": []
  },
  {
   "cell_type": "code",
   "execution_count": null,
   "id": "f8c79451-460d-4fea-ab79-2d1a290dab2c",
   "metadata": {},
   "outputs": [],
   "source": []
  },
  {
   "cell_type": "code",
   "execution_count": null,
   "id": "58aed12b-5cb5-4633-9fd6-a7a5ac5f6d58",
   "metadata": {},
   "outputs": [],
   "source": []
  },
  {
   "cell_type": "code",
   "execution_count": null,
   "id": "fd9d6b94-d970-4a50-a04d-4face8dbd0a1",
   "metadata": {},
   "outputs": [],
   "source": []
  },
  {
   "cell_type": "code",
   "execution_count": null,
   "id": "4de90dcf-f5c2-46b2-ad1d-a54313951837",
   "metadata": {},
   "outputs": [],
   "source": []
  },
  {
   "cell_type": "code",
   "execution_count": null,
   "id": "9e5803d1-1dbc-4ed7-915b-34c51a1c6c36",
   "metadata": {},
   "outputs": [],
   "source": []
  },
  {
   "cell_type": "code",
   "execution_count": null,
   "id": "fe7dd04d-638c-499f-bbfa-4adf32441658",
   "metadata": {},
   "outputs": [],
   "source": []
  },
  {
   "cell_type": "code",
   "execution_count": null,
   "id": "fbfc04e8-a4ed-4d14-bbdb-b64f8931d6d6",
   "metadata": {},
   "outputs": [],
   "source": []
  },
  {
   "cell_type": "code",
   "execution_count": null,
   "id": "e10b2e18-9ea2-4720-9b7b-d21dca101d96",
   "metadata": {},
   "outputs": [],
   "source": []
  },
  {
   "cell_type": "code",
   "execution_count": null,
   "id": "7810a3d7-dd22-4f96-83de-60c5bcf4b2a5",
   "metadata": {},
   "outputs": [],
   "source": []
  },
  {
   "cell_type": "code",
   "execution_count": 1,
   "id": "e06c1b74-7624-4482-a8e6-bbdabc8df4c9",
   "metadata": {
    "execution": {
     "iopub.execute_input": "2022-05-12T22:31:54.894134Z",
     "iopub.status.busy": "2022-05-12T22:31:54.893779Z",
     "iopub.status.idle": "2022-05-12T22:31:56.176871Z",
     "shell.execute_reply": "2022-05-12T22:31:56.176516Z",
     "shell.execute_reply.started": "2022-05-12T22:31:54.894100Z"
    }
   },
   "outputs": [],
   "source": [
    "import pandas as pd\n",
    "import numpy as np\n",
    "import sweetviz as sv"
   ]
  },
  {
   "cell_type": "code",
   "execution_count": 5,
   "id": "747b032d-3ec1-45b0-a654-1e7600d4933c",
   "metadata": {
    "execution": {
     "iopub.execute_input": "2022-05-12T22:31:57.580435Z",
     "iopub.status.busy": "2022-05-12T22:31:57.580334Z",
     "iopub.status.idle": "2022-05-12T22:31:57.582150Z",
     "shell.execute_reply": "2022-05-12T22:31:57.581790Z",
     "shell.execute_reply.started": "2022-05-12T22:31:57.580423Z"
    },
    "scrolled": true,
    "tags": []
   },
   "outputs": [],
   "source": [
    "# train2 = train.copy()\n",
    "\n",
    "# for col in ['city', 'province', 'country', 'title', 'author', 'publisher']:\n",
    "#     idx = np.array(train2[col].isin(test[col].unique()).loc[lambda x: ~x].index)\n",
    "#     train2.drop(index=idx, inplace=True)"
   ]
  },
  {
   "cell_type": "code",
   "execution_count": 6,
   "id": "d7c84865-6081-4ec2-8d9a-70dc4a48e9be",
   "metadata": {
    "execution": {
     "iopub.execute_input": "2022-05-12T22:31:57.582755Z",
     "iopub.status.busy": "2022-05-12T22:31:57.582660Z",
     "iopub.status.idle": "2022-05-12T22:32:03.865633Z",
     "shell.execute_reply": "2022-05-12T22:32:03.864683Z",
     "shell.execute_reply.started": "2022-05-12T22:31:57.582743Z"
    },
    "tags": []
   },
   "outputs": [
    {
     "data": {
      "text/html": [
       "<div>\n",
       "<style scoped>\n",
       "    .dataframe tbody tr th:only-of-type {\n",
       "        vertical-align: middle;\n",
       "    }\n",
       "\n",
       "    .dataframe tbody tr th {\n",
       "        vertical-align: top;\n",
       "    }\n",
       "\n",
       "    .dataframe thead th {\n",
       "        text-align: right;\n",
       "    }\n",
       "</style>\n",
       "<table border=\"1\" class=\"dataframe\">\n",
       "  <thead>\n",
       "    <tr style=\"text-align: right;\">\n",
       "      <th>book_id</th>\n",
       "      <th>0000694cce</th>\n",
       "      <th>0005eca48c</th>\n",
       "      <th>00092574c6</th>\n",
       "      <th>00096fc1b4</th>\n",
       "      <th>000c4b34c1</th>\n",
       "      <th>000d218a64</th>\n",
       "      <th>000fcede56</th>\n",
       "      <th>001425d200</th>\n",
       "      <th>00197a36cd</th>\n",
       "      <th>001a8c395c</th>\n",
       "      <th>...</th>\n",
       "      <th>ffea0e8767</th>\n",
       "      <th>ffea679bfc</th>\n",
       "      <th>ffec52a88e</th>\n",
       "      <th>ffeff5d6e9</th>\n",
       "      <th>fff2518ddf</th>\n",
       "      <th>fff7436599</th>\n",
       "      <th>fff910c0a6</th>\n",
       "      <th>fff96e5833</th>\n",
       "      <th>fffb9ddc28</th>\n",
       "      <th>fffcf3cfa2</th>\n",
       "    </tr>\n",
       "    <tr>\n",
       "      <th>user_id</th>\n",
       "      <th></th>\n",
       "      <th></th>\n",
       "      <th></th>\n",
       "      <th></th>\n",
       "      <th></th>\n",
       "      <th></th>\n",
       "      <th></th>\n",
       "      <th></th>\n",
       "      <th></th>\n",
       "      <th></th>\n",
       "      <th></th>\n",
       "      <th></th>\n",
       "      <th></th>\n",
       "      <th></th>\n",
       "      <th></th>\n",
       "      <th></th>\n",
       "      <th></th>\n",
       "      <th></th>\n",
       "      <th></th>\n",
       "      <th></th>\n",
       "      <th></th>\n",
       "    </tr>\n",
       "  </thead>\n",
       "  <tbody>\n",
       "    <tr>\n",
       "      <th>00005d011d</th>\n",
       "      <td>NaN</td>\n",
       "      <td>NaN</td>\n",
       "      <td>NaN</td>\n",
       "      <td>NaN</td>\n",
       "      <td>NaN</td>\n",
       "      <td>NaN</td>\n",
       "      <td>NaN</td>\n",
       "      <td>NaN</td>\n",
       "      <td>NaN</td>\n",
       "      <td>NaN</td>\n",
       "      <td>...</td>\n",
       "      <td>NaN</td>\n",
       "      <td>NaN</td>\n",
       "      <td>NaN</td>\n",
       "      <td>NaN</td>\n",
       "      <td>NaN</td>\n",
       "      <td>NaN</td>\n",
       "      <td>NaN</td>\n",
       "      <td>NaN</td>\n",
       "      <td>NaN</td>\n",
       "      <td>NaN</td>\n",
       "    </tr>\n",
       "    <tr>\n",
       "      <th>0001796186</th>\n",
       "      <td>NaN</td>\n",
       "      <td>NaN</td>\n",
       "      <td>NaN</td>\n",
       "      <td>NaN</td>\n",
       "      <td>NaN</td>\n",
       "      <td>NaN</td>\n",
       "      <td>NaN</td>\n",
       "      <td>NaN</td>\n",
       "      <td>NaN</td>\n",
       "      <td>NaN</td>\n",
       "      <td>...</td>\n",
       "      <td>NaN</td>\n",
       "      <td>NaN</td>\n",
       "      <td>NaN</td>\n",
       "      <td>NaN</td>\n",
       "      <td>NaN</td>\n",
       "      <td>NaN</td>\n",
       "      <td>NaN</td>\n",
       "      <td>NaN</td>\n",
       "      <td>NaN</td>\n",
       "      <td>NaN</td>\n",
       "    </tr>\n",
       "    <tr>\n",
       "      <th>00038787e6</th>\n",
       "      <td>NaN</td>\n",
       "      <td>NaN</td>\n",
       "      <td>NaN</td>\n",
       "      <td>NaN</td>\n",
       "      <td>NaN</td>\n",
       "      <td>NaN</td>\n",
       "      <td>NaN</td>\n",
       "      <td>NaN</td>\n",
       "      <td>NaN</td>\n",
       "      <td>NaN</td>\n",
       "      <td>...</td>\n",
       "      <td>NaN</td>\n",
       "      <td>NaN</td>\n",
       "      <td>NaN</td>\n",
       "      <td>NaN</td>\n",
       "      <td>NaN</td>\n",
       "      <td>NaN</td>\n",
       "      <td>NaN</td>\n",
       "      <td>NaN</td>\n",
       "      <td>NaN</td>\n",
       "      <td>NaN</td>\n",
       "    </tr>\n",
       "    <tr>\n",
       "      <th>0005cd3c50</th>\n",
       "      <td>NaN</td>\n",
       "      <td>NaN</td>\n",
       "      <td>NaN</td>\n",
       "      <td>NaN</td>\n",
       "      <td>NaN</td>\n",
       "      <td>NaN</td>\n",
       "      <td>NaN</td>\n",
       "      <td>NaN</td>\n",
       "      <td>NaN</td>\n",
       "      <td>NaN</td>\n",
       "      <td>...</td>\n",
       "      <td>NaN</td>\n",
       "      <td>NaN</td>\n",
       "      <td>NaN</td>\n",
       "      <td>NaN</td>\n",
       "      <td>NaN</td>\n",
       "      <td>NaN</td>\n",
       "      <td>NaN</td>\n",
       "      <td>NaN</td>\n",
       "      <td>NaN</td>\n",
       "      <td>NaN</td>\n",
       "    </tr>\n",
       "    <tr>\n",
       "      <th>0007f1d62c</th>\n",
       "      <td>NaN</td>\n",
       "      <td>NaN</td>\n",
       "      <td>NaN</td>\n",
       "      <td>NaN</td>\n",
       "      <td>NaN</td>\n",
       "      <td>NaN</td>\n",
       "      <td>NaN</td>\n",
       "      <td>NaN</td>\n",
       "      <td>NaN</td>\n",
       "      <td>NaN</td>\n",
       "      <td>...</td>\n",
       "      <td>NaN</td>\n",
       "      <td>NaN</td>\n",
       "      <td>NaN</td>\n",
       "      <td>NaN</td>\n",
       "      <td>NaN</td>\n",
       "      <td>NaN</td>\n",
       "      <td>NaN</td>\n",
       "      <td>NaN</td>\n",
       "      <td>NaN</td>\n",
       "      <td>NaN</td>\n",
       "    </tr>\n",
       "    <tr>\n",
       "      <th>...</th>\n",
       "      <td>...</td>\n",
       "      <td>...</td>\n",
       "      <td>...</td>\n",
       "      <td>...</td>\n",
       "      <td>...</td>\n",
       "      <td>...</td>\n",
       "      <td>...</td>\n",
       "      <td>...</td>\n",
       "      <td>...</td>\n",
       "      <td>...</td>\n",
       "      <td>...</td>\n",
       "      <td>...</td>\n",
       "      <td>...</td>\n",
       "      <td>...</td>\n",
       "      <td>...</td>\n",
       "      <td>...</td>\n",
       "      <td>...</td>\n",
       "      <td>...</td>\n",
       "      <td>...</td>\n",
       "      <td>...</td>\n",
       "      <td>...</td>\n",
       "    </tr>\n",
       "    <tr>\n",
       "      <th>ffe39a737d</th>\n",
       "      <td>NaN</td>\n",
       "      <td>NaN</td>\n",
       "      <td>NaN</td>\n",
       "      <td>NaN</td>\n",
       "      <td>NaN</td>\n",
       "      <td>NaN</td>\n",
       "      <td>NaN</td>\n",
       "      <td>NaN</td>\n",
       "      <td>NaN</td>\n",
       "      <td>NaN</td>\n",
       "      <td>...</td>\n",
       "      <td>NaN</td>\n",
       "      <td>NaN</td>\n",
       "      <td>NaN</td>\n",
       "      <td>NaN</td>\n",
       "      <td>NaN</td>\n",
       "      <td>NaN</td>\n",
       "      <td>NaN</td>\n",
       "      <td>NaN</td>\n",
       "      <td>NaN</td>\n",
       "      <td>NaN</td>\n",
       "    </tr>\n",
       "    <tr>\n",
       "      <th>fff38493f5</th>\n",
       "      <td>NaN</td>\n",
       "      <td>NaN</td>\n",
       "      <td>NaN</td>\n",
       "      <td>NaN</td>\n",
       "      <td>NaN</td>\n",
       "      <td>NaN</td>\n",
       "      <td>NaN</td>\n",
       "      <td>NaN</td>\n",
       "      <td>NaN</td>\n",
       "      <td>NaN</td>\n",
       "      <td>...</td>\n",
       "      <td>NaN</td>\n",
       "      <td>NaN</td>\n",
       "      <td>NaN</td>\n",
       "      <td>NaN</td>\n",
       "      <td>NaN</td>\n",
       "      <td>NaN</td>\n",
       "      <td>NaN</td>\n",
       "      <td>NaN</td>\n",
       "      <td>NaN</td>\n",
       "      <td>NaN</td>\n",
       "    </tr>\n",
       "    <tr>\n",
       "      <th>fff8db9478</th>\n",
       "      <td>NaN</td>\n",
       "      <td>NaN</td>\n",
       "      <td>NaN</td>\n",
       "      <td>NaN</td>\n",
       "      <td>NaN</td>\n",
       "      <td>NaN</td>\n",
       "      <td>NaN</td>\n",
       "      <td>NaN</td>\n",
       "      <td>NaN</td>\n",
       "      <td>NaN</td>\n",
       "      <td>...</td>\n",
       "      <td>NaN</td>\n",
       "      <td>NaN</td>\n",
       "      <td>NaN</td>\n",
       "      <td>NaN</td>\n",
       "      <td>NaN</td>\n",
       "      <td>NaN</td>\n",
       "      <td>NaN</td>\n",
       "      <td>NaN</td>\n",
       "      <td>NaN</td>\n",
       "      <td>NaN</td>\n",
       "    </tr>\n",
       "    <tr>\n",
       "      <th>fffe1ddcc0</th>\n",
       "      <td>NaN</td>\n",
       "      <td>NaN</td>\n",
       "      <td>NaN</td>\n",
       "      <td>NaN</td>\n",
       "      <td>NaN</td>\n",
       "      <td>NaN</td>\n",
       "      <td>NaN</td>\n",
       "      <td>NaN</td>\n",
       "      <td>NaN</td>\n",
       "      <td>NaN</td>\n",
       "      <td>...</td>\n",
       "      <td>NaN</td>\n",
       "      <td>NaN</td>\n",
       "      <td>NaN</td>\n",
       "      <td>NaN</td>\n",
       "      <td>NaN</td>\n",
       "      <td>NaN</td>\n",
       "      <td>NaN</td>\n",
       "      <td>NaN</td>\n",
       "      <td>NaN</td>\n",
       "      <td>NaN</td>\n",
       "    </tr>\n",
       "    <tr>\n",
       "      <th>ffff1b67c9</th>\n",
       "      <td>NaN</td>\n",
       "      <td>NaN</td>\n",
       "      <td>NaN</td>\n",
       "      <td>NaN</td>\n",
       "      <td>NaN</td>\n",
       "      <td>NaN</td>\n",
       "      <td>NaN</td>\n",
       "      <td>NaN</td>\n",
       "      <td>NaN</td>\n",
       "      <td>NaN</td>\n",
       "      <td>...</td>\n",
       "      <td>NaN</td>\n",
       "      <td>NaN</td>\n",
       "      <td>NaN</td>\n",
       "      <td>NaN</td>\n",
       "      <td>NaN</td>\n",
       "      <td>NaN</td>\n",
       "      <td>NaN</td>\n",
       "      <td>NaN</td>\n",
       "      <td>NaN</td>\n",
       "      <td>NaN</td>\n",
       "    </tr>\n",
       "  </tbody>\n",
       "</table>\n",
       "<p>10000 rows × 35103 columns</p>\n",
       "</div>"
      ],
      "text/plain": [
       "book_id     0000694cce  0005eca48c  00092574c6  00096fc1b4  000c4b34c1  \\\n",
       "user_id                                                                  \n",
       "00005d011d         NaN         NaN         NaN         NaN         NaN   \n",
       "0001796186         NaN         NaN         NaN         NaN         NaN   \n",
       "00038787e6         NaN         NaN         NaN         NaN         NaN   \n",
       "0005cd3c50         NaN         NaN         NaN         NaN         NaN   \n",
       "0007f1d62c         NaN         NaN         NaN         NaN         NaN   \n",
       "...                ...         ...         ...         ...         ...   \n",
       "ffe39a737d         NaN         NaN         NaN         NaN         NaN   \n",
       "fff38493f5         NaN         NaN         NaN         NaN         NaN   \n",
       "fff8db9478         NaN         NaN         NaN         NaN         NaN   \n",
       "fffe1ddcc0         NaN         NaN         NaN         NaN         NaN   \n",
       "ffff1b67c9         NaN         NaN         NaN         NaN         NaN   \n",
       "\n",
       "book_id     000d218a64  000fcede56  001425d200  00197a36cd  001a8c395c  ...  \\\n",
       "user_id                                                                 ...   \n",
       "00005d011d         NaN         NaN         NaN         NaN         NaN  ...   \n",
       "0001796186         NaN         NaN         NaN         NaN         NaN  ...   \n",
       "00038787e6         NaN         NaN         NaN         NaN         NaN  ...   \n",
       "0005cd3c50         NaN         NaN         NaN         NaN         NaN  ...   \n",
       "0007f1d62c         NaN         NaN         NaN         NaN         NaN  ...   \n",
       "...                ...         ...         ...         ...         ...  ...   \n",
       "ffe39a737d         NaN         NaN         NaN         NaN         NaN  ...   \n",
       "fff38493f5         NaN         NaN         NaN         NaN         NaN  ...   \n",
       "fff8db9478         NaN         NaN         NaN         NaN         NaN  ...   \n",
       "fffe1ddcc0         NaN         NaN         NaN         NaN         NaN  ...   \n",
       "ffff1b67c9         NaN         NaN         NaN         NaN         NaN  ...   \n",
       "\n",
       "book_id     ffea0e8767  ffea679bfc  ffec52a88e  ffeff5d6e9  fff2518ddf  \\\n",
       "user_id                                                                  \n",
       "00005d011d         NaN         NaN         NaN         NaN         NaN   \n",
       "0001796186         NaN         NaN         NaN         NaN         NaN   \n",
       "00038787e6         NaN         NaN         NaN         NaN         NaN   \n",
       "0005cd3c50         NaN         NaN         NaN         NaN         NaN   \n",
       "0007f1d62c         NaN         NaN         NaN         NaN         NaN   \n",
       "...                ...         ...         ...         ...         ...   \n",
       "ffe39a737d         NaN         NaN         NaN         NaN         NaN   \n",
       "fff38493f5         NaN         NaN         NaN         NaN         NaN   \n",
       "fff8db9478         NaN         NaN         NaN         NaN         NaN   \n",
       "fffe1ddcc0         NaN         NaN         NaN         NaN         NaN   \n",
       "ffff1b67c9         NaN         NaN         NaN         NaN         NaN   \n",
       "\n",
       "book_id     fff7436599  fff910c0a6  fff96e5833  fffb9ddc28  fffcf3cfa2  \n",
       "user_id                                                                 \n",
       "00005d011d         NaN         NaN         NaN         NaN         NaN  \n",
       "0001796186         NaN         NaN         NaN         NaN         NaN  \n",
       "00038787e6         NaN         NaN         NaN         NaN         NaN  \n",
       "0005cd3c50         NaN         NaN         NaN         NaN         NaN  \n",
       "0007f1d62c         NaN         NaN         NaN         NaN         NaN  \n",
       "...                ...         ...         ...         ...         ...  \n",
       "ffe39a737d         NaN         NaN         NaN         NaN         NaN  \n",
       "fff38493f5         NaN         NaN         NaN         NaN         NaN  \n",
       "fff8db9478         NaN         NaN         NaN         NaN         NaN  \n",
       "fffe1ddcc0         NaN         NaN         NaN         NaN         NaN  \n",
       "ffff1b67c9         NaN         NaN         NaN         NaN         NaN  \n",
       "\n",
       "[10000 rows x 35103 columns]"
      ]
     },
     "execution_count": 6,
     "metadata": {},
     "output_type": "execute_result"
    }
   ],
   "source": [
    "all_interactions = pd.concat([train[['user_id', 'book_id', 'rating']], test[['user_id', 'book_id']].assign(rating=0)])\n",
    "sample_user_id = pd.Series(all_interactions['user_id'].unique()).sample(n=10000, random_state=4).values\n",
    "all_interactions = all_interactions[all_interactions['user_id'].isin(sample_user_id)]\n",
    "\n",
    "pivot_interactions = all_interactions.pivot_table('rating', 'user_id', 'book_id')\n",
    "pivot_interactions"
   ]
  },
  {
   "cell_type": "code",
   "execution_count": 9,
   "id": "d4f5c10f-f3b0-4246-bb02-18528308276f",
   "metadata": {
    "execution": {
     "iopub.execute_input": "2022-05-12T22:33:06.772945Z",
     "iopub.status.busy": "2022-05-12T22:33:06.772338Z",
     "iopub.status.idle": "2022-05-12T22:33:07.030249Z",
     "shell.execute_reply": "2022-05-12T22:33:07.029669Z",
     "shell.execute_reply.started": "2022-05-12T22:33:06.772880Z"
    },
    "tags": []
   },
   "outputs": [],
   "source": [
    "all_interactions.sort_values('user_id').to_clipboard()"
   ]
  },
  {
   "cell_type": "code",
   "execution_count": null,
   "id": "e80a163d-8f06-41be-8630-cb28d27ab02e",
   "metadata": {},
   "outputs": [],
   "source": [
    "pivot_interactions"
   ]
  },
  {
   "cell_type": "code",
   "execution_count": 24,
   "id": "25e38281-9fab-4336-91e1-f1888aa0ab06",
   "metadata": {
    "execution": {
     "iopub.execute_input": "2022-05-12T22:31:28.268306Z",
     "iopub.status.busy": "2022-05-12T22:31:28.267927Z",
     "iopub.status.idle": "2022-05-12T22:31:28.282674Z",
     "shell.execute_reply": "2022-05-12T22:31:28.281637Z",
     "shell.execute_reply.started": "2022-05-12T22:31:28.268271Z"
    },
    "tags": []
   },
   "outputs": [
    {
     "data": {
      "text/html": [
       "<div>\n",
       "<style scoped>\n",
       "    .dataframe tbody tr th:only-of-type {\n",
       "        vertical-align: middle;\n",
       "    }\n",
       "\n",
       "    .dataframe tbody tr th {\n",
       "        vertical-align: top;\n",
       "    }\n",
       "\n",
       "    .dataframe thead th {\n",
       "        text-align: right;\n",
       "    }\n",
       "</style>\n",
       "<table border=\"1\" class=\"dataframe\">\n",
       "  <thead>\n",
       "    <tr style=\"text-align: right;\">\n",
       "      <th></th>\n",
       "      <th>user_id</th>\n",
       "      <th>book_id</th>\n",
       "      <th>rating</th>\n",
       "    </tr>\n",
       "  </thead>\n",
       "  <tbody>\n",
       "    <tr>\n",
       "      <th>0</th>\n",
       "      <td>9db527ea34</td>\n",
       "      <td>69173ee3b6</td>\n",
       "      <td>5</td>\n",
       "    </tr>\n",
       "    <tr>\n",
       "      <th>1</th>\n",
       "      <td>3db2595a13</td>\n",
       "      <td>58d33fe06a</td>\n",
       "      <td>8</td>\n",
       "    </tr>\n",
       "    <tr>\n",
       "      <th>2</th>\n",
       "      <td>375781e597</td>\n",
       "      <td>512b5d69de</td>\n",
       "      <td>10</td>\n",
       "    </tr>\n",
       "    <tr>\n",
       "      <th>3</th>\n",
       "      <td>f00ee6360d</td>\n",
       "      <td>98c1419160</td>\n",
       "      <td>9</td>\n",
       "    </tr>\n",
       "    <tr>\n",
       "      <th>4</th>\n",
       "      <td>8b893fb104</td>\n",
       "      <td>99c56ce036</td>\n",
       "      <td>9</td>\n",
       "    </tr>\n",
       "    <tr>\n",
       "      <th>...</th>\n",
       "      <td>...</td>\n",
       "      <td>...</td>\n",
       "      <td>...</td>\n",
       "    </tr>\n",
       "    <tr>\n",
       "      <th>134302</th>\n",
       "      <td>598825e90a</td>\n",
       "      <td>29f4516f72</td>\n",
       "      <td>0</td>\n",
       "    </tr>\n",
       "    <tr>\n",
       "      <th>134303</th>\n",
       "      <td>0e1ff052ae</td>\n",
       "      <td>d27721acf2</td>\n",
       "      <td>0</td>\n",
       "    </tr>\n",
       "    <tr>\n",
       "      <th>134304</th>\n",
       "      <td>0baec5a22d</td>\n",
       "      <td>121a671e06</td>\n",
       "      <td>0</td>\n",
       "    </tr>\n",
       "    <tr>\n",
       "      <th>134305</th>\n",
       "      <td>967874531a</td>\n",
       "      <td>c414ce067b</td>\n",
       "      <td>0</td>\n",
       "    </tr>\n",
       "    <tr>\n",
       "      <th>134306</th>\n",
       "      <td>3ca5c9417e</td>\n",
       "      <td>2ab7f94fb2</td>\n",
       "      <td>0</td>\n",
       "    </tr>\n",
       "  </tbody>\n",
       "</table>\n",
       "<p>383733 rows × 3 columns</p>\n",
       "</div>"
      ],
      "text/plain": [
       "           user_id     book_id  rating\n",
       "0       9db527ea34  69173ee3b6       5\n",
       "1       3db2595a13  58d33fe06a       8\n",
       "2       375781e597  512b5d69de      10\n",
       "3       f00ee6360d  98c1419160       9\n",
       "4       8b893fb104  99c56ce036       9\n",
       "...            ...         ...     ...\n",
       "134302  598825e90a  29f4516f72       0\n",
       "134303  0e1ff052ae  d27721acf2       0\n",
       "134304  0baec5a22d  121a671e06       0\n",
       "134305  967874531a  c414ce067b       0\n",
       "134306  3ca5c9417e  2ab7f94fb2       0\n",
       "\n",
       "[383733 rows x 3 columns]"
      ]
     },
     "execution_count": 24,
     "metadata": {},
     "output_type": "execute_result"
    }
   ],
   "source": [
    "all_interactions"
   ]
  },
  {
   "cell_type": "code",
   "execution_count": 7,
   "id": "dd3ae617-7fa7-47a7-a754-e2c23be6d3f3",
   "metadata": {
    "execution": {
     "iopub.execute_input": "2022-05-12T22:28:55.989476Z",
     "iopub.status.busy": "2022-05-12T22:28:55.989049Z",
     "iopub.status.idle": "2022-05-12T22:28:57.485928Z",
     "shell.execute_reply": "2022-05-12T22:28:57.484858Z",
     "shell.execute_reply.started": "2022-05-12T22:28:55.989435Z"
    }
   },
   "outputs": [],
   "source": [
    "from catboost import Pool, CatBoostRegressor\n",
    "from sklearn.model_selection import train_test_split\n",
    "from sklearn.metrics import mean_squared_log_error"
   ]
  },
  {
   "cell_type": "code",
   "execution_count": null,
   "id": "8f2e5961-845d-4949-ac84-125cbaba00bb",
   "metadata": {},
   "outputs": [],
   "source": [
    "features = ['age', 'city', 'province', 'country', 'title', 'author', 'year', 'publisher']\n",
    "target = 'rating'\n",
    "\n",
    "for col in features:\n",
    "    df_train[col] = df_train[col].map(lambda x: int(x.split('_')[-1]))\n",
    "    df_test[col] = df_test[col].map(lambda x: int(x.split('_')[-1]))\n",
    "\n",
    "X = df_train[features]\n",
    "y = df_train[target]\n",
    "\n",
    "X_train, X_test, y_train, y_test = train_test_split(X, y, test_size=0.33, random_state=42)"
   ]
  },
  {
   "cell_type": "code",
   "execution_count": 8,
   "id": "1e606711-143c-4286-b389-ea149006742c",
   "metadata": {
    "execution": {
     "iopub.execute_input": "2022-05-12T22:29:13.600516Z",
     "iopub.status.busy": "2022-05-12T22:29:13.600102Z",
     "iopub.status.idle": "2022-05-12T22:29:13.606919Z",
     "shell.execute_reply": "2022-05-12T22:29:13.606110Z",
     "shell.execute_reply.started": "2022-05-12T22:29:13.600481Z"
    }
   },
   "outputs": [
    {
     "data": {
      "text/plain": [
       "Index(['id', 'user_id', 'book_id', 'rating', 'age', 'city', 'province',\n",
       "       'country', 'title', 'author', 'year', 'publisher'],\n",
       "      dtype='object')"
      ]
     },
     "execution_count": 8,
     "metadata": {},
     "output_type": "execute_result"
    }
   ],
   "source": [
    "train.columns"
   ]
  },
  {
   "cell_type": "code",
   "execution_count": null,
   "id": "4a5e885e-f10a-44d7-9825-d0f760168697",
   "metadata": {},
   "outputs": [],
   "source": []
  },
  {
   "cell_type": "code",
   "execution_count": null,
   "id": "6aa8ce86-5d21-4640-91df-2b7fea45272b",
   "metadata": {},
   "outputs": [],
   "source": []
  },
  {
   "cell_type": "code",
   "execution_count": null,
   "id": "c11952b0-6551-41d0-9c1d-23b48a0a6a9a",
   "metadata": {},
   "outputs": [],
   "source": []
  },
  {
   "cell_type": "code",
   "execution_count": null,
   "id": "b2f49b84-aa06-47b6-89a2-ec04cce1c54d",
   "metadata": {},
   "outputs": [],
   "source": []
  },
  {
   "cell_type": "code",
   "execution_count": null,
   "id": "9bdfceba-8723-4b4a-93ff-136456383e15",
   "metadata": {},
   "outputs": [],
   "source": []
  },
  {
   "cell_type": "code",
   "execution_count": 21,
   "id": "a6b4de39-3a6b-4aaf-8d65-2f466df6b7d7",
   "metadata": {
    "execution": {
     "iopub.execute_input": "2022-05-12T22:15:43.304095Z",
     "iopub.status.busy": "2022-05-12T22:15:43.303746Z",
     "iopub.status.idle": "2022-05-12T22:15:43.337595Z",
     "shell.execute_reply": "2022-05-12T22:15:43.336362Z",
     "shell.execute_reply.started": "2022-05-12T22:15:43.304062Z"
    },
    "tags": []
   },
   "outputs": [
    {
     "data": {
      "text/html": [
       "<div>\n",
       "<style scoped>\n",
       "    .dataframe tbody tr th:only-of-type {\n",
       "        vertical-align: middle;\n",
       "    }\n",
       "\n",
       "    .dataframe tbody tr th {\n",
       "        vertical-align: top;\n",
       "    }\n",
       "\n",
       "    .dataframe thead th {\n",
       "        text-align: right;\n",
       "    }\n",
       "</style>\n",
       "<table border=\"1\" class=\"dataframe\">\n",
       "  <thead>\n",
       "    <tr style=\"text-align: right;\">\n",
       "      <th></th>\n",
       "      <th>id</th>\n",
       "      <th>user_id</th>\n",
       "      <th>book_id</th>\n",
       "      <th>rating</th>\n",
       "      <th>age</th>\n",
       "      <th>city</th>\n",
       "      <th>province</th>\n",
       "      <th>country</th>\n",
       "      <th>title</th>\n",
       "      <th>author</th>\n",
       "      <th>year</th>\n",
       "      <th>publisher</th>\n",
       "    </tr>\n",
       "  </thead>\n",
       "  <tbody>\n",
       "    <tr>\n",
       "      <th>1</th>\n",
       "      <td>9ecc1d4a2e9a7476</td>\n",
       "      <td>3db2595a13</td>\n",
       "      <td>58d33fe06a</td>\n",
       "      <td>8</td>\n",
       "      <td>41.0</td>\n",
       "      <td>romney</td>\n",
       "      <td>west virginia</td>\n",
       "      <td>usa</td>\n",
       "      <td>The No. 1 Ladies' Detective Agency (Today Show...</td>\n",
       "      <td>Alexander McCall Smith</td>\n",
       "      <td>2003.0</td>\n",
       "      <td>Anchor</td>\n",
       "    </tr>\n",
       "    <tr>\n",
       "      <th>3</th>\n",
       "      <td>617ef107e6ffed5a</td>\n",
       "      <td>f00ee6360d</td>\n",
       "      <td>98c1419160</td>\n",
       "      <td>9</td>\n",
       "      <td>NaN</td>\n",
       "      <td>san diego</td>\n",
       "      <td></td>\n",
       "      <td>usa</td>\n",
       "      <td>The Summons</td>\n",
       "      <td>John Grisham</td>\n",
       "      <td>2002.0</td>\n",
       "      <td>Dell Publishing Company</td>\n",
       "    </tr>\n",
       "    <tr>\n",
       "      <th>4</th>\n",
       "      <td>0e2be280941c4d1f</td>\n",
       "      <td>8b893fb104</td>\n",
       "      <td>99c56ce036</td>\n",
       "      <td>9</td>\n",
       "      <td>26.0</td>\n",
       "      <td>springfield</td>\n",
       "      <td>missouri</td>\n",
       "      <td>usa</td>\n",
       "      <td>Starman (The Axis Trilogy, Bk 3)</td>\n",
       "      <td>Sara Douglass</td>\n",
       "      <td>2002.0</td>\n",
       "      <td>Tor Books</td>\n",
       "    </tr>\n",
       "    <tr>\n",
       "      <th>6</th>\n",
       "      <td>efbb30ccb29583c4</td>\n",
       "      <td>3ae810fa9d</td>\n",
       "      <td>e0aa3f0fc0</td>\n",
       "      <td>9</td>\n",
       "      <td>29.0</td>\n",
       "      <td>porto</td>\n",
       "      <td>porto</td>\n",
       "      <td>portugal</td>\n",
       "      <td>Celtic Fairy Tales</td>\n",
       "      <td>Joseph Jacobs</td>\n",
       "      <td>NaN</td>\n",
       "      <td>Parragon</td>\n",
       "    </tr>\n",
       "    <tr>\n",
       "      <th>7</th>\n",
       "      <td>c95da7fa58219065</td>\n",
       "      <td>0405213304</td>\n",
       "      <td>9392a59e6a</td>\n",
       "      <td>4</td>\n",
       "      <td>NaN</td>\n",
       "      <td>irvine</td>\n",
       "      <td>california</td>\n",
       "      <td>NaN</td>\n",
       "      <td>The Reef</td>\n",
       "      <td>Nora Roberts</td>\n",
       "      <td>1999.0</td>\n",
       "      <td>Jove Books</td>\n",
       "    </tr>\n",
       "    <tr>\n",
       "      <th>...</th>\n",
       "      <td>...</td>\n",
       "      <td>...</td>\n",
       "      <td>...</td>\n",
       "      <td>...</td>\n",
       "      <td>...</td>\n",
       "      <td>...</td>\n",
       "      <td>...</td>\n",
       "      <td>...</td>\n",
       "      <td>...</td>\n",
       "      <td>...</td>\n",
       "      <td>...</td>\n",
       "      <td>...</td>\n",
       "    </tr>\n",
       "    <tr>\n",
       "      <th>249419</th>\n",
       "      <td>6dbfef61c2fc29fa</td>\n",
       "      <td>1a8a4f0b39</td>\n",
       "      <td>402a0ed40f</td>\n",
       "      <td>9</td>\n",
       "      <td>NaN</td>\n",
       "      <td>providence</td>\n",
       "      <td>rhode island</td>\n",
       "      <td>usa</td>\n",
       "      <td>The Practical Encycopedia of Feng Shui</td>\n",
       "      <td>Gill Hale</td>\n",
       "      <td>2001.0</td>\n",
       "      <td>Hermes House</td>\n",
       "    </tr>\n",
       "    <tr>\n",
       "      <th>249420</th>\n",
       "      <td>0454a4c5989ef6c6</td>\n",
       "      <td>5238703487</td>\n",
       "      <td>c13d6aa85e</td>\n",
       "      <td>7</td>\n",
       "      <td>37.0</td>\n",
       "      <td>köln</td>\n",
       "      <td>nordrhein-westfalen</td>\n",
       "      <td>germany</td>\n",
       "      <td>Fischer TaschenbÃ?Â¼cher, Bd.26, SchÃ?Â¶ne neu...</td>\n",
       "      <td>Aldous Huxley</td>\n",
       "      <td>2002.0</td>\n",
       "      <td>Fischer (Tb.), Frankfurt</td>\n",
       "    </tr>\n",
       "    <tr>\n",
       "      <th>249421</th>\n",
       "      <td>b9a8ff87e1cd3db7</td>\n",
       "      <td>239f28d3df</td>\n",
       "      <td>20a149064d</td>\n",
       "      <td>10</td>\n",
       "      <td>42.0</td>\n",
       "      <td>janesville</td>\n",
       "      <td>california</td>\n",
       "      <td>usa</td>\n",
       "      <td>Against the Odds</td>\n",
       "      <td>Elizabeth Moon</td>\n",
       "      <td>2001.0</td>\n",
       "      <td>Baen</td>\n",
       "    </tr>\n",
       "    <tr>\n",
       "      <th>249424</th>\n",
       "      <td>0204e100e468d273</td>\n",
       "      <td>605e3aa44a</td>\n",
       "      <td>3d7ad0d1d2</td>\n",
       "      <td>6</td>\n",
       "      <td>NaN</td>\n",
       "      <td>cleveland</td>\n",
       "      <td>ohio</td>\n",
       "      <td>usa</td>\n",
       "      <td>The Last Family</td>\n",
       "      <td>John R. Miller</td>\n",
       "      <td>1997.0</td>\n",
       "      <td>Bantam Books</td>\n",
       "    </tr>\n",
       "    <tr>\n",
       "      <th>249425</th>\n",
       "      <td>007ee1ecf0008ba2</td>\n",
       "      <td>ffc3460c43</td>\n",
       "      <td>8d25632957</td>\n",
       "      <td>10</td>\n",
       "      <td>NaN</td>\n",
       "      <td>boise</td>\n",
       "      <td>idaho</td>\n",
       "      <td>usa</td>\n",
       "      <td>The Brendan Voyage</td>\n",
       "      <td>Timothy Severin</td>\n",
       "      <td>1979.0</td>\n",
       "      <td>Harper Mass Market Paperbacks (Mm)</td>\n",
       "    </tr>\n",
       "  </tbody>\n",
       "</table>\n",
       "<p>155820 rows × 12 columns</p>\n",
       "</div>"
      ],
      "text/plain": [
       "                      id     user_id     book_id  rating   age         city  \\\n",
       "1       9ecc1d4a2e9a7476  3db2595a13  58d33fe06a       8  41.0       romney   \n",
       "3       617ef107e6ffed5a  f00ee6360d  98c1419160       9   NaN    san diego   \n",
       "4       0e2be280941c4d1f  8b893fb104  99c56ce036       9  26.0  springfield   \n",
       "6       efbb30ccb29583c4  3ae810fa9d  e0aa3f0fc0       9  29.0        porto   \n",
       "7       c95da7fa58219065  0405213304  9392a59e6a       4   NaN       irvine   \n",
       "...                  ...         ...         ...     ...   ...          ...   \n",
       "249419  6dbfef61c2fc29fa  1a8a4f0b39  402a0ed40f       9   NaN   providence   \n",
       "249420  0454a4c5989ef6c6  5238703487  c13d6aa85e       7  37.0         köln   \n",
       "249421  b9a8ff87e1cd3db7  239f28d3df  20a149064d      10  42.0   janesville   \n",
       "249424  0204e100e468d273  605e3aa44a  3d7ad0d1d2       6   NaN    cleveland   \n",
       "249425  007ee1ecf0008ba2  ffc3460c43  8d25632957      10   NaN        boise   \n",
       "\n",
       "                    province    country  \\\n",
       "1              west virginia        usa   \n",
       "3                                   usa   \n",
       "4                   missouri        usa   \n",
       "6                      porto   portugal   \n",
       "7                 california        NaN   \n",
       "...                      ...        ...   \n",
       "249419          rhode island        usa   \n",
       "249420   nordrhein-westfalen    germany   \n",
       "249421            california        usa   \n",
       "249424                  ohio        usa   \n",
       "249425                 idaho        usa   \n",
       "\n",
       "                                                    title  \\\n",
       "1       The No. 1 Ladies' Detective Agency (Today Show...   \n",
       "3                                             The Summons   \n",
       "4                        Starman (The Axis Trilogy, Bk 3)   \n",
       "6                                      Celtic Fairy Tales   \n",
       "7                                                The Reef   \n",
       "...                                                   ...   \n",
       "249419             The Practical Encycopedia of Feng Shui   \n",
       "249420  Fischer TaschenbÃ?Â¼cher, Bd.26, SchÃ?Â¶ne neu...   \n",
       "249421                                   Against the Odds   \n",
       "249424                                    The Last Family   \n",
       "249425                                 The Brendan Voyage   \n",
       "\n",
       "                        author    year                           publisher  \n",
       "1       Alexander McCall Smith  2003.0                              Anchor  \n",
       "3                 John Grisham  2002.0             Dell Publishing Company  \n",
       "4                Sara Douglass  2002.0                           Tor Books  \n",
       "6                Joseph Jacobs     NaN                            Parragon  \n",
       "7                 Nora Roberts  1999.0                          Jove Books  \n",
       "...                        ...     ...                                 ...  \n",
       "249419               Gill Hale  2001.0                        Hermes House  \n",
       "249420           Aldous Huxley  2002.0            Fischer (Tb.), Frankfurt  \n",
       "249421          Elizabeth Moon  2001.0                                Baen  \n",
       "249424          John R. Miller  1997.0                        Bantam Books  \n",
       "249425         Timothy Severin  1979.0  Harper Mass Market Paperbacks (Mm)  \n",
       "\n",
       "[155820 rows x 12 columns]"
      ]
     },
     "execution_count": 21,
     "metadata": {},
     "output_type": "execute_result"
    }
   ],
   "source": [
    "train"
   ]
  },
  {
   "cell_type": "code",
   "execution_count": null,
   "id": "fc47e6c5-cb15-447c-a652-0bab8438a434",
   "metadata": {},
   "outputs": [],
   "source": []
  },
  {
   "cell_type": "code",
   "execution_count": null,
   "id": "4ad92f0c-c81a-4cc1-a628-79aca5f26b4c",
   "metadata": {},
   "outputs": [],
   "source": [
    "model = Word2Vec(window = 10, sg = 1, hs = 0,\n",
    "                 negative = 10, # for negative sampling\n",
    "                 alpha=0.03, min_alpha=0.0007,\n",
    "                 seed = 14)\n",
    "\n",
    "model.build_vocab(purchases_train, progress_per=200)\n",
    "\n",
    "model.train(purchases_train, total_examples = model.corpus_count, \n",
    "            epochs=10, report_delay=1)"
   ]
  },
  {
   "cell_type": "code",
   "execution_count": null,
   "id": "38332501-05ee-42a9-a592-1eddb93380b9",
   "metadata": {},
   "outputs": [],
   "source": []
  },
  {
   "cell_type": "code",
   "execution_count": null,
   "id": "d3658d3b-752f-49a3-8048-7bca9a79a3cf",
   "metadata": {},
   "outputs": [],
   "source": []
  }
 ],
 "metadata": {
  "kernelspec": {
   "display_name": "Python 3",
   "language": "python",
   "name": "python3"
  },
  "language_info": {
   "codemirror_mode": {
    "name": "ipython",
    "version": 3
   },
   "file_extension": ".py",
   "mimetype": "text/x-python",
   "name": "python",
   "nbconvert_exporter": "python",
   "pygments_lexer": "ipython3",
   "version": "3.8.8"
  }
 },
 "nbformat": 4,
 "nbformat_minor": 5
}
